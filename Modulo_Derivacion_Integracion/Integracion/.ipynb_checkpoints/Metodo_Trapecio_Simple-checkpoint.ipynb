{
 "cells": [
  {
   "cell_type": "markdown",
   "metadata": {},
   "source": [
    "# Integración numérica.\n",
    "## Definición de la integral en dos dimensiones.\n",
    "En métodos numericos, una integral definida por dos límites (a,b) de una funcion $f(x)$, comprende el área que esta encierra con respecto al eje $x$.\n",
    "\n",
    "Analíticamente una integral definida se expresa como:\n",
    "$$\n",
    "\\int_a^b {f(x)}\\;dx\\;=\\;\\lim_{n \\to \\infty}{\\sum_{k=1}^{n} \\left({a + k\\cdot\\frac{b-a}{n}}\\right)}\n",
    "$$\n",
    "\n",
    "A esto se le conoce como la definición de la integral a partir de una suma de Riemann.\n",
    "\n",
    "Pero, a partir del objetivo de este curso, se aproximará este resultado a un valor numerico, basado en valores finitos dentro de los limites de la sumatoria previamente presentada.\n",
    "\n",
    "El método más conocido, es que que aproxima la integral a partir de una sumatoria de rectángulos consecutivos. quedando la formula de la siguiente forma:\n",
    "\n",
    "$$\n",
    "\\int_a^b {f(x)}\\;dx\\;=\\;{\\sum_{k=1}^{n} \\left({a + k\\cdot\\frac{b-a}{n}}\\right)}\n",
    "$$\n",
    "\n",
    "Y se puede representar gráficamente de la siguiente forma:\n",
    "\n",
    "<img src=\"images/integral_normal.png\" alt=\"Imagen\">\n",
    "\n",
    "Pero no se hará uso de este debido a que existen metodos que cometen un menor error al calcular el valor de la misma.\n",
    "\n",
    "## Método del trapecio para integrales simples.\n",
    "\n",
    "Este método numérico aproxima el valor de la integral a partir de sumas finitas de trapecios consecutivos generados a partir de los valores de la funcion evaluados en dos puntos especificos del intervalo dado.\n",
    "\n",
    "### Método numérico.\n",
    "\n",
    "Para poder generar dichos trapecios haremos uso de un paso $h$ que dividirá el intervalo $[a,b]$ en $n$ particiones iguales; por lo que el valor de este paso estará dado por:\n",
    "\n",
    "$$h = \\frac{b-a}{n}$$\n",
    "\n",
    "Por lo que se tomarán nodos en x obtenidos por:\n",
    "\n",
    "$$x_{j} = a+(j-1)\\cdot h \\;\\;\\;\\; \\forall j = 1,2,3,...,n+1$$\n",
    "\n",
    "Para el cálculo de toda el área bajo la curva, se deberá tomar en cuenta el valor del área de los trapecios generados, dada por:\n",
    "\n",
    "$$A = h\\cdot \\frac{f(x_j+x_{j+1})}{2}$$\n",
    "<img src=\"images/trapecio.gif\" alt=\"Imagen\">\n",
    "\n",
    "Y se sumarán finitamente, tantas veces, cono $n$ trapecios tengamos, generalizando la siguiente formula para su cálculo:\n",
    "\n",
    "$$\\int_{a}^{b} {f(x)}\\;dx = \\sum_{j=1}^{n} {\\left[h\\cdot\\left(\\frac{f(a+(j-1)\\cdot h)+f(a+j\\cdot h)}{2}\\right)\\right]} = I*$$\n",
    "\n",
    "Y gráficamente representado por:\n",
    "\n",
    "<img src=\"images/integral_trapecios.jpg\" alt=\"Imagen\" style = \"width:40%;\">\n",
    "\n",
    "### Error del método\n",
    "\n",
    "Como todo método numérico, al aproximar valores, se cometen errores con respecto a los valores reales. En el caso del método del trapecio para la aproximación de una integral simple, se comete un error que viene dado por:\n",
    "\n",
    "$$\\left|I - I*\\right| \\leq \\frac{b-a}{12}\\cdot\\left|{max(f^2(x))\\cdot h^2}\\right|$$\n",
    "\n",
    "### Manual de uso del programa\n",
    "#### Entradas\n",
    "\n",
    "El programa recibirá 4 parámetros ingrados por el usuario:\n",
    "\n",
    "- $f(x)$: Recibe una función en formato númerico aceptado por python; está debe de estar simplemente en funcion de x.\n",
    "- a: El límite inferior de la integral.\n",
    "- b: El límite superior de la integral.\n",
    "- n: Cantidad de trapecios a considerar.\n",
    "\n",
    "#### Salidas\n",
    "- I: El valor númerico que toma la integral de la función ingresada en el intervalo dado.\n",
    "- Gráfico de los trapecios formados por la integral."
   ]
  },
  {
   "cell_type": "code",
   "execution_count": 1,
   "metadata": {},
   "outputs": [],
   "source": [
    "from sympy import *\n",
    "from sympy import diff as Diff\n",
    "from sympy import Abs as Abso\n",
    "from numpy import *\n",
    "import ipywidgets as widgets\n",
    "from IPython.display import display, Math, Latex\n",
    "import matplotlib.pyplot as plt\n",
    "import matplotlib.patches as patches"
   ]
  },
  {
   "cell_type": "code",
   "execution_count": 2,
   "metadata": {},
   "outputs": [
    {
     "data": {
      "application/vnd.jupyter.widget-view+json": {
       "model_id": "4b9efd539fa149a8bfd4d5f28b6fef5e",
       "version_major": 2,
       "version_minor": 0
      },
      "text/plain": [
       "Text(value='', description='Funcion:', placeholder='Funciona integrar')"
      ]
     },
     "metadata": {},
     "output_type": "display_data"
    },
    {
     "data": {
      "text/latex": [
       "$$---------------------------------------------------------------$$"
      ],
      "text/plain": [
       "<IPython.core.display.Math object>"
      ]
     },
     "metadata": {},
     "output_type": "display_data"
    },
    {
     "data": {
      "application/vnd.jupyter.widget-view+json": {
       "model_id": "0e868c68992c44859b7689e7a97466a4",
       "version_major": 2,
       "version_minor": 0
      },
      "text/plain": [
       "FloatText(value=0.0, description='Límite Inferior:')"
      ]
     },
     "metadata": {},
     "output_type": "display_data"
    },
    {
     "data": {
      "application/vnd.jupyter.widget-view+json": {
       "model_id": "91c5c16d521a44f69b2d9998beb9af19",
       "version_major": 2,
       "version_minor": 0
      },
      "text/plain": [
       "FloatText(value=1.0, description='Límite Superior:')"
      ]
     },
     "metadata": {},
     "output_type": "display_data"
    },
    {
     "data": {
      "text/latex": [
       "$$---------------------------------------------------------------$$"
      ],
      "text/plain": [
       "<IPython.core.display.Math object>"
      ]
     },
     "metadata": {},
     "output_type": "display_data"
    },
    {
     "data": {
      "application/vnd.jupyter.widget-view+json": {
       "model_id": "8c37b3d263114675953f50e7b81a880c",
       "version_major": 2,
       "version_minor": 0
      },
      "text/plain": [
       "BoundedIntText(value=2, description='n:', min=1)"
      ]
     },
     "metadata": {},
     "output_type": "display_data"
    }
   ],
   "source": [
    "x = Symbol('x')\n",
    "init_printing()\n",
    "f_input = widgets.Text(\n",
    "    placeholder='Funciona integrar',\n",
    "    description='Funcion:',\n",
    "    disabled=False\n",
    ")\n",
    "\n",
    "a_input = widgets.FloatText(\n",
    "    value=0,\n",
    "    description='Límite Inferior:',\n",
    "    disabled=False\n",
    ")\n",
    "\n",
    "b_input = widgets.FloatText(\n",
    "    value=1,\n",
    "    description='Límite Superior:',\n",
    "    disabled=False\n",
    ")\n",
    "\n",
    "n_input = widgets.BoundedIntText(\n",
    "    min = 1,\n",
    "    step = 1,\n",
    "    value=2,\n",
    "    description='n:',\n",
    "    disabled=False\n",
    ")\n",
    "\n",
    "display(f_input)\n",
    "display(Math('---------------------------------------------------------------'))\n",
    "display(a_input, b_input)\n",
    "display(Math('---------------------------------------------------------------'))\n",
    "display(n_input)"
   ]
  },
  {
   "cell_type": "code",
   "execution_count": 3,
   "metadata": {},
   "outputs": [],
   "source": [
    "try:\n",
    "    fx = sympify(f_input.value)\n",
    "    li = a_input.value\n",
    "    ls = b_input.value\n",
    "    nx = n_input.value\n",
    "except:\n",
    "    print(\"\\033[1;31;48m Error de ingreso.\")"
   ]
  },
  {
   "cell_type": "code",
   "execution_count": 9,
   "metadata": {},
   "outputs": [
    {
     "data": {
      "text/latex": [
       "$$I = \\int_{2.5}^{9.6} x^{2}\\; dx = 289.936681640625$$"
      ],
      "text/plain": [
       "<IPython.core.display.Math object>"
      ]
     },
     "metadata": {},
     "output_type": "display_data"
    },
    {
     "data": {
      "text/latex": [
       "$$Representación\\; gráfica$$"
      ],
      "text/plain": [
       "<IPython.core.display.Math object>"
      ]
     },
     "metadata": {},
     "output_type": "display_data"
    },
    {
     "data": {
      "image/png": "[encoded data removed]",
      "text/plain": [
       "<Figure size 432x288 with 1 Axes>"
      ]
     },
     "metadata": {},
     "output_type": "display_data"
    }
   ],
   "source": [
    "h = (ls-li)/nx\n",
    "def integralTrapecio(f, a, b, n):\n",
    "    suma = 0\n",
    "    for i in range(1, n+1):\n",
    "        suma = suma + h*((fx.subs(x,a+(i-1)*h) + fx.subs(x,a+(i)*h))/2)\n",
    "    return suma\n",
    "\n",
    "I = integralTrapecio(fx, li, ls, nx)    \n",
    "\n",
    "display(Math(\"I = \\int_{\"+latex(li)+\"}^{\"+latex(ls)+\"} \"+latex(fx)+\"\\; dx = \"+latex(I)))\n",
    "\n",
    "fig2 = plt.figure()\n",
    "ax2 = fig2.add_subplot(111)\n",
    "\n",
    "lista = []\n",
    "\n",
    "for i in range(0, nx+1):\n",
    "    lista.append(fx.subs(x, li + i*h))\n",
    "\n",
    "for i in range(0,nx):\n",
    "    \n",
    "    points = [[li+i*h, 0], [li+i*h, fx.subs(x,li+i*h)], [li+(i+1)*h, fx.subs(x,li+(i+1)*h)], [li+(i+1)*h, 0], [li+i*h, 0]] #the points to trace the edges.\n",
    "\n",
    "    polygon= plt.Polygon(points,  fill=None, edgecolor='g')\n",
    "\n",
    "    ax2.add_patch(polygon)\n",
    "\n",
    "max_var = max(lista)\n",
    "min_var = min(lista)\n",
    "\n",
    "eps = (ls-li)/30\n",
    "\n",
    "axes = plt.gca()\n",
    "display(Math('Representación\\; gráfica'))\n",
    "axes.set_xlim([li-eps,ls+eps])\n",
    "axes.set_ylim([float(min_var)-eps, float(max_var)+eps])\n",
    "plt.show()\n"
   ]
  },
  {
   "cell_type": "code",
   "execution_count": null,
   "metadata": {},
   "outputs": [],
   "source": []
  }
 ],
 "metadata": {
  "kernelspec": {
   "display_name": "Python 3",
   "language": "python",
   "name": "python3"
  },
  "language_info": {
   "codemirror_mode": {
    "name": "ipython",
    "version": 3
   },
   "file_extension": ".py",
   "mimetype": "text/x-python",
   "name": "python",
   "nbconvert_exporter": "python",
   "pygments_lexer": "ipython3",
   "version": "3.6.5"
  }
 },
 "nbformat": 4,
 "nbformat_minor": 2
}

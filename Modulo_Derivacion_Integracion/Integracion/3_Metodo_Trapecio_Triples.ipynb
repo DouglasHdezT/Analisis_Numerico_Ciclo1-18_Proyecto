{
 "cells": [
  {
   "cell_type": "markdown",
   "metadata": {},
   "source": [
    "## Método del trapecio para integrales Triples.\n",
    "\n",
    "Este método es aplicado para funciones que dependen de tres variables independientes. A pesar de ello siempre se basa en una sumatoria finita de funciones generadas a partir del cálculo recursivo de una cantidad específica de trapecios.\n",
    "\n",
    "### Método numérico.\n",
    "Gráficamente resulta complicado plantear una sumatoria de elementos en $R^4$, pero tomaremos la función dependiente de 3 variables como un volumen en $R^3$, el cual seccionaremos generando un conjunto finito de prismas rectangulares generados a partir de distancias especificas, $j,\\;k,\\;h$, de los ejes $z,\\;y,\\;x$ respectivamente.\n",
    "\n",
    "Estos pasos, al igual que en los casos anteriores, están restringidos por una cantidad finita de particiones, $l,\\;m,\\;n$ ,en cada eje respectivamente; Ademas se limitan por rangos, $[p(x,y),q(x,y)]$, $[c(x),d(x)]$, $[a,b]$; de tal forma que saltos quedan definidos por: \n",
    "\n",
    "$$h = \\frac{b-a}{n};\\;\\; k(x) = \\frac{d(x)-c(x)}{m};\\;\\; j(x,y) = \\frac{q(x,y)-p(x,y)}{l}$$\n",
    "\n",
    "De igual forma que el caso pasado, las distancias $k$ y $j$ pueden estar delimitadas por funciones, volviendolas funciones dependientes, y denotandolas por las formas $k(x)$ y $j(x,y)$.\n",
    "\n",
    "El valor de la integral, estará dado por el valor obtenido al realizar el método del trapecio simple recursivamente en las tres variables independientes. En primer lugar se aplicará el metodo a la variable $z$, generando por resultado una regla de correspondencia en función de las variables $x$ y $y$:\n",
    "\n",
    "$$\\int_{p(x,y)}^{q(x,y)} {f(x,y,z)}\\;dz = \\sum_{i=1}^{l} {\\left[j(x,y)\\cdot\\left(\\frac{f(x,y,p(x,y)+(i-1)\\cdot j(x,y))+f(x,y,p(x,y)+i\\cdot j(x,y))}{2}\\right)\\right]} = o(x,y)$$\n",
    "\n",
    "Posterior a ello, se vuelve a aplicar el método a la variable $y$, generando un función dependiente unicamente de la variable $x$, que serivira de base para el cálculo final de la integral:\n",
    "\n",
    "$$\\int_{c(x)}^{d(x)} {o(x,y)}\\;dy = \\sum_{i=1}^{m} {\\left[k(x)\\cdot\\left(\\frac{o(x,c(x)+(i-1)\\cdot k(x))+o(x,c(x)+i\\cdot k(x))}{2}\\right)\\right]} = g(x)$$\n",
    "\n",
    "Para finalizar, se hará uso de de la ultima función generada y se le aplicará el metodo simple con respecto a $x$, generando así, un valor numerico en función de los límites $a$ y $b$ de la integral:\n",
    "\n",
    "$$\\int_{a}^{b} {g(x)}\\;dx = \\sum_{j=1}^{n} {\\left[h\\cdot\\left(\\frac{g(a+(j-1)\\cdot h)+g(a+j\\cdot h)}{2}\\right)\\right]} = I*$$\n",
    "\n",
    "### Manual de uso del programa.\n",
    "#### Entradas\n",
    "\n",
    "El programa recibirá 7 parámetros ingrados por el usuario:\n",
    "\n",
    "- $f(x,y,z)$: Recibe una función en formato númerico aceptado por python; está debe de estar en funcion de x ^ y ^ z.\n",
    "- a: El límite inferior con respecto a $x$ de la integral.\n",
    "- b: El límite superior con respecto a $x$ de la integral.\n",
    "- c(x): El límite inferior con respecto a $y$ de la integral.\n",
    "- d(x): El límite superior con respecto a $y$ de la integral.\n",
    "- p(x,y): El límite inferior con respecto a $z$ de la integral.\n",
    "- q(x,y): El límite superior con respecto a $z$ de la integral.\n",
    "- n: Cantidad de secciones en el eje $x$ a considerar.\n",
    "- m: Cantidad de secciones en el eje $y$ a considerar.\n",
    "- l: Cantidad de secciones en el eje $z$ a considerar.\n",
    "\n",
    "#### Salidas\n",
    "- I: El valor númerico que toma la integral de la función ingresada en el intervalo dado.\n"
   ]
  },
  {
   "cell_type": "code",
   "execution_count": 3,
   "metadata": {},
   "outputs": [],
   "source": [
    "from sympy import *\n",
    "from numpy import *\n",
    "import ipywidgets as widgets\n",
    "from IPython.display import display, Math, Latex\n",
    "import matplotlib.pyplot as plt\n",
    "import matplotlib.patches as patches"
   ]
  },
  {
   "cell_type": "code",
   "execution_count": 4,
   "metadata": {},
   "outputs": [
    {
     "data": {
      "application/vnd.jupyter.widget-view+json": {
       "model_id": "301ebc206b334be790fcbaa50d491ba0",
       "version_major": 2,
       "version_minor": 0
      },
      "text/plain": [
       "Text(value='', description='Funcion:', placeholder='Funciona integrar')"
      ]
     },
     "metadata": {},
     "output_type": "display_data"
    },
    {
     "data": {
      "text/latex": [
       "$$---------------------------------------------------------------$$"
      ],
      "text/plain": [
       "<IPython.core.display.Math object>"
      ]
     },
     "metadata": {},
     "output_type": "display_data"
    },
    {
     "data": {
      "application/vnd.jupyter.widget-view+json": {
       "model_id": "5147604d398d4866a214be8f00a74643",
       "version_major": 2,
       "version_minor": 0
      },
      "text/plain": [
       "Text(value='', description='p(x,y) = ', placeholder='Limite inferior')"
      ]
     },
     "metadata": {},
     "output_type": "display_data"
    },
    {
     "data": {
      "application/vnd.jupyter.widget-view+json": {
       "model_id": "7162e3a905414966b2d4e42ef2a3983b",
       "version_major": 2,
       "version_minor": 0
      },
      "text/plain": [
       "Text(value='', description='q(x,y) = ', placeholder='Limite Superior')"
      ]
     },
     "metadata": {},
     "output_type": "display_data"
    },
    {
     "data": {
      "text/latex": [
       "$$---------------------------------------------------------------$$"
      ],
      "text/plain": [
       "<IPython.core.display.Math object>"
      ]
     },
     "metadata": {},
     "output_type": "display_data"
    },
    {
     "data": {
      "application/vnd.jupyter.widget-view+json": {
       "model_id": "7a6e5f24b50b40b680240bc4812aa3f6",
       "version_major": 2,
       "version_minor": 0
      },
      "text/plain": [
       "Text(value='', description='c(x) = ', placeholder='Limite inferior')"
      ]
     },
     "metadata": {},
     "output_type": "display_data"
    },
    {
     "data": {
      "application/vnd.jupyter.widget-view+json": {
       "model_id": "d845b82baff84257ba5e10f0e561ed41",
       "version_major": 2,
       "version_minor": 0
      },
      "text/plain": [
       "Text(value='', description='d(x) = ', placeholder='Limite Superior')"
      ]
     },
     "metadata": {},
     "output_type": "display_data"
    },
    {
     "data": {
      "text/latex": [
       "$$---------------------------------------------------------------$$"
      ],
      "text/plain": [
       "<IPython.core.display.Math object>"
      ]
     },
     "metadata": {},
     "output_type": "display_data"
    },
    {
     "data": {
      "application/vnd.jupyter.widget-view+json": {
       "model_id": "7d6745ada49d4085b5cb037ca482677e",
       "version_major": 2,
       "version_minor": 0
      },
      "text/plain": [
       "FloatText(value=0.0, description='a = ')"
      ]
     },
     "metadata": {},
     "output_type": "display_data"
    },
    {
     "data": {
      "application/vnd.jupyter.widget-view+json": {
       "model_id": "b0a8a00e70e544f79a2f7aaa8c28deb2",
       "version_major": 2,
       "version_minor": 0
      },
      "text/plain": [
       "FloatText(value=1.0, description='b = ')"
      ]
     },
     "metadata": {},
     "output_type": "display_data"
    },
    {
     "data": {
      "text/latex": [
       "$$---------------------------------------------------------------$$"
      ],
      "text/plain": [
       "<IPython.core.display.Math object>"
      ]
     },
     "metadata": {},
     "output_type": "display_data"
    },
    {
     "data": {
      "application/vnd.jupyter.widget-view+json": {
       "model_id": "75e1df31627a47a7909887da2eeaf779",
       "version_major": 2,
       "version_minor": 0
      },
      "text/plain": [
       "BoundedIntText(value=2, description='l = ', min=1)"
      ]
     },
     "metadata": {},
     "output_type": "display_data"
    },
    {
     "data": {
      "application/vnd.jupyter.widget-view+json": {
       "model_id": "2629ff909f1b448b846f9542af4c0082",
       "version_major": 2,
       "version_minor": 0
      },
      "text/plain": [
       "BoundedIntText(value=2, description='n = ', min=1)"
      ]
     },
     "metadata": {},
     "output_type": "display_data"
    },
    {
     "data": {
      "application/vnd.jupyter.widget-view+json": {
       "model_id": "154c7c69cd97413d8b24dd71fb6326f8",
       "version_major": 2,
       "version_minor": 0
      },
      "text/plain": [
       "BoundedIntText(value=2, description='m = ', min=1)"
      ]
     },
     "metadata": {},
     "output_type": "display_data"
    }
   ],
   "source": [
    "x = Symbol('x')\n",
    "y = Symbol('y')\n",
    "z = Symbol('z')\n",
    "\n",
    "init_printing()\n",
    "\n",
    "f_input = widgets.Text(\n",
    "    placeholder='Funciona integrar',\n",
    "    description='Funcion:',\n",
    "    disabled=False\n",
    ")\n",
    "\n",
    "pxy_input = widgets.Text(\n",
    "    description = 'p(x,y) = ',\n",
    "    placeholder = 'Limite inferior',\n",
    "    disabled = False\n",
    ")\n",
    "\n",
    "qxy_input = widgets.Text(\n",
    "    description = 'q(x,y) = ',\n",
    "    placeholder = 'Limite Superior',\n",
    "    disabled = False\n",
    ")\n",
    "\n",
    "cx_input = widgets.Text(\n",
    "    description = 'c(x) = ',\n",
    "    placeholder = 'Limite inferior',\n",
    "    disabled = False\n",
    ")\n",
    "\n",
    "dx_input = widgets.Text(\n",
    "    description = 'd(x) = ',\n",
    "    placeholder = 'Limite Superior',\n",
    "    disabled = False\n",
    ")\n",
    "\n",
    "a_input = widgets.FloatText(\n",
    "    value=0,\n",
    "    description = 'a = ',\n",
    "    placeholder='Límite Inferior:',\n",
    "    disabled=False\n",
    ")\n",
    "\n",
    "b_input = widgets.FloatText(\n",
    "    value=1,\n",
    "    description = 'b = ',\n",
    "    placeholder='Límite Superior:',\n",
    "    disabled=False\n",
    ")\n",
    "\n",
    "n_input = widgets.BoundedIntText(\n",
    "    value=2,\n",
    "    min = 1,\n",
    "    description = 'n = ',\n",
    "    placeholder='Simpson Degree x',\n",
    "    disabled=False\n",
    ")\n",
    "\n",
    "m_input = widgets.BoundedIntText(\n",
    "    value=2,\n",
    "    min = 1,\n",
    "    description = 'm = ',\n",
    "    placeholder='Simpson Degree y',\n",
    "    disabled=False\n",
    ")\n",
    "\n",
    "l_input = widgets.BoundedIntText(\n",
    "    value=2,\n",
    "    min = 1,\n",
    "    description = 'l = ',\n",
    "    placeholder='Simpson Degree z',\n",
    "    disabled=False\n",
    ")\n",
    "\n",
    "display(f_input)\n",
    "\n",
    "display(Math('---------------------------------------------------------------'))\n",
    "\n",
    "display(pxy_input, qxy_input)\n",
    "\n",
    "display(Math('---------------------------------------------------------------'))\n",
    "\n",
    "display(cx_input, dx_input)\n",
    "\n",
    "display(Math('---------------------------------------------------------------'))\n",
    "\n",
    "display(a_input, b_input)\n",
    "\n",
    "display(Math('---------------------------------------------------------------'))\n",
    "\n",
    "display(l_input, n_input, m_input)\n"
   ]
  },
  {
   "cell_type": "code",
   "execution_count": 5,
   "metadata": {},
   "outputs": [],
   "source": [
    "try:\n",
    "    nx = n_input.value\n",
    "    mx = m_input.value\n",
    "    lx = l_input.value\n",
    "\n",
    "    fxyz = sympify(f_input.value)\n",
    "\n",
    "    pxy = sympify(pxy_input.value)\n",
    "    qxy = sympify(qxy_input.value)\n",
    "\n",
    "    cx = sympify(cx_input.value)\n",
    "    dx = sympify(dx_input.value)\n",
    "\n",
    "    a = a_input.value\n",
    "    b = b_input.value\n",
    "\n",
    "    j = (qxy - pxy)/(lx)\n",
    "\n",
    "    k = (dx - cx)/(mx)\n",
    "\n",
    "    h = (b - a)/(nx)\n",
    "except:\n",
    "    print(\"\\033[1;31;48m Error de ingreso.\")"
   ]
  },
  {
   "cell_type": "code",
   "execution_count": 15,
   "metadata": {},
   "outputs": [
    {
     "data": {
      "text/latex": [
       "$$I = \\int_{2.0}^{5.0}\\int_{x}^{x^{2}}\\int_{x^{6} + 2 x y - 1.5}^{x^{2} + x y} (x + y + z)\\; dz \\;dy\\; dx = -873893361.377576$$"
      ],
      "text/plain": [
       "<IPython.core.display.Math object>"
      ]
     },
     "metadata": {},
     "output_type": "display_data"
    },
    {
     "data": {
      "text/latex": [
       "$$Superficie \\;xy$$"
      ],
      "text/plain": [
       "<IPython.core.display.Math object>"
      ]
     },
     "metadata": {},
     "output_type": "display_data"
    },
    {
     "data": {
      "image/png": "[encoded data removed]",
      "text/plain": [
       "<Figure size 432x288 with 1 Axes>"
      ]
     },
     "metadata": {},
     "output_type": "display_data"
    },
    {
     "data": {
      "text/latex": [
       "$$Superficie \\;xz$$"
      ],
      "text/plain": [
       "<IPython.core.display.Math object>"
      ]
     },
     "metadata": {},
     "output_type": "display_data"
    },
    {
     "data": {
      "image/png": "[encoded data removed]",
      "text/plain": [
       "<Figure size 432x288 with 1 Axes>"
      ]
     },
     "metadata": {},
     "output_type": "display_data"
    }
   ],
   "source": [
    "oxy = 0\n",
    "gx =0\n",
    "I= 0 \n",
    "\n",
    "for i in range(1, lx+1):\n",
    "    oxy = oxy + (j/2)*(fxyz.subs(z,pxy+(i-1)*j) + fxyz.subs(z,pxy+(i)*j))\n",
    "\n",
    "for i in range(1, mx+1):\n",
    "    gx = gx + (k/2)*(oxy.subs(y,cx+(i-1)*k) + oxy.subs(y,cx+(i)*k))\n",
    "\n",
    "I = 0\n",
    "\n",
    "for i in range(1,nx+1):\n",
    "    I = I + (h/2)*(gx.subs(x,a+(i-1)*h) + gx.subs(x,a+(i)*h))\n",
    "\n",
    "display(Math(\"I = \\int_{\"+latex(a)+\"}^{\"+latex(b)+\"}\\int_{\"+latex(cx)+\"}^{\"+latex(dx)+\"}\\int_{\"+latex(pxy)+\"}^{\"+latex(qxy)+\"} (\"+latex(fxyz)+\")\\; dz \\;dy\\; dx = \"+latex(I)))\n",
    "\n",
    "fig2 = plt.figure()\n",
    "ax2 = fig2.add_subplot(111)\n",
    "\n",
    "lista = []\n",
    "\n",
    "dfx =cx \n",
    "\n",
    "for i in range(0, (nx)+1):\n",
    "    for w in range(0,(mx)):\n",
    "        lista.append(dfx.subs(x,a + (i+1)*h) + w*k.subs(x,a + (i+1)*h))\n",
    "\n",
    "for i in range(0,(nx)):\n",
    "    for w in range(0,(mx)):\n",
    "        points = [[a + i*h, dfx.subs(x,a + i*h) + w*k.subs(x,a + i*h)], [a + (i+1)*h, dfx.subs(x,a + (i+1)*h) + w*k.subs(x,a + (i+1)*h)], [a + (i+1)*h, dfx.subs(x,a + (i+1)*h) + (w+1)*k.subs(x,a + (i+1)*h)], [a + i*h, dfx.subs(x,a + i*h) + (w+1)*k.subs(x,a + i*h)], [a + i*h, dfx.subs(x,a + i*h) + w*k.subs(x,a + i*h)] ] #the points to trace the edges.\n",
    "\n",
    "        polygon= plt.Polygon(points,  fill=None, edgecolor='g')\n",
    "\n",
    "        ax2.add_patch(polygon)\n",
    "\n",
    "max_var = max(lista)\n",
    "min_var = min(lista)\n",
    "\n",
    "eps = (b-a)/30\n",
    "\n",
    "if min_var >= 0:\n",
    "    min_var = 0\n",
    "    \n",
    "axes = plt.gca()\n",
    "axes.set_xlim([a-eps,b+eps])\n",
    "display(Math(\"Superficie \\;xy\"))\n",
    "axes.set_ylim([float(min_var)-eps,float(max_var)+eps])\n",
    "plt.show()\n",
    "\n",
    "#Superficie xz\n",
    "\n",
    "fig2 = plt.figure()\n",
    "ax2 = fig2.add_subplot(111)\n",
    "\n",
    "lista = []\n",
    "\n",
    "dfx =pxy.subs(y,0)\n",
    "\n",
    "jx = j.subs(y,0)\n",
    "\n",
    "for i in range(0, (nx)+1):\n",
    "    lista.append(dfx.subs(x, a +i*h ))\n",
    "\n",
    "for i in range(0,(nx)):\n",
    "    for w in range(0,(lx)):\n",
    "        points = [[a + i*h, dfx.subs(x,a + i*h) + w*jx.subs(x,a + i*h)], [a + (i+1)*h, dfx.subs(x,a + (i+1)*h) + w*jx.subs(x,a + (i+1)*h)], [a + (i+1)*h, dfx.subs(x,a + (i+1)*h) + (w+1)*jx.subs(x,a + (i+1)*h)], [a + i*h, dfx.subs(x,a + i*h) + (w+1)*jx.subs(x,a + i*h)], [a + i*h, dfx.subs(x,a + i*h) + w*jx.subs(x,a + i*h)] ] #the points to trace the edges.\n",
    "\n",
    "        polygon= plt.Polygon(points,  fill=None, edgecolor='g')\n",
    "\n",
    "        ax2.add_patch(polygon)\n",
    "\n",
    "max_var = max(lista)\n",
    "min_var = min(lista)\n",
    "\n",
    "eps = (b-a)/30\n",
    "\n",
    "if min_var >= 0:\n",
    "    min_var = 0\n",
    "    \n",
    "axes = plt.gca()\n",
    "axes.set_xlim([a-eps,b+eps])\n",
    "display(Math(\"Superficie \\;xz\"))\n",
    "axes.set_ylim([float(min_var)-eps,float(max_var)+eps])\n",
    "plt.show()"
   ]
  },
  {
   "cell_type": "code",
   "execution_count": null,
   "metadata": {},
   "outputs": [],
   "source": []
  }
 ],
 "metadata": {
  "kernelspec": {
   "display_name": "Python 3",
   "language": "python",
   "name": "python3"
  },
  "language_info": {
   "codemirror_mode": {
    "name": "ipython",
    "version": 3
   },
   "file_extension": ".py",
   "mimetype": "text/x-python",
   "name": "python",
   "nbconvert_exporter": "python",
   "pygments_lexer": "ipython3",
   "version": "3.6.5"
  }
 },
 "nbformat": 4,
 "nbformat_minor": 2
}

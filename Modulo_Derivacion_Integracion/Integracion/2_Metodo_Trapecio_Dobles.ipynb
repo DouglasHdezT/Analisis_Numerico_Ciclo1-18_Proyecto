{
 "cells": [
  {
   "cell_type": "markdown",
   "metadata": {},
   "source": [
    "## Método del trapecio para integrales dobles.\n",
    "\n",
    "Al igual que el inciso anterior, este método aproxima el valor de las integrales a partir de la suma finita de valores genrados bajo el área de un trapecio, con la diferencia que en este caso se suman volumenes generados a partir de una porcion de área reflejada por la curva en $R^3$, formando prismas trapezoidales. \n",
    "\n",
    "### Método numérico.\n",
    "\n",
    "En este caso se hará uso de dos pasos, $k$ y $h$, los cuales se encargarán de generar una cuadrícula delimitada por $[c(x),d(x)]$ en el eje de las $y$, y $[a,b]$ en el eje de las $x$. Para ello se utilizarán cantidades de particiones finitas ambos ejes: $\"m\"$ para el eje $\"y\"$, y $\"n\"$ para el eje $\"x\"$. Los distintos pasos quedan definidos por:\n",
    "\n",
    "$$h = \\frac{b-a}{n};\\;\\; k(x) = \\frac{d(x)-c(x)}{m}$$\n",
    "\n",
    "Cabe resaltar que a pesar que $k$ puede tomar un valores reales cuando los limites están delimitados por valores reales, este puede tomar valores en funcion de una variable dependiente, esto gracias a tener la posibilidad de aplicar limites variables en este; por ello se notará como $k(x)$.\n",
    "\n",
    "<img src=\"images/integrales_dobles_trapecio.gif\" alt=\"Imagen\" style = \"width:40%;\">\n",
    "\n",
    "Para el cálculo del valor numérico de la integral deberemos, de forma recursiva, realizar el método del trapecio simple a ambas variables, primero con respecto a $\"y\"$, y luego con respecto a $\"x\"$.\n",
    "\n",
    "Se aplica la fórmula del inciso anterior a la variable $\"y\"$ en los límites $[c(x),d(x)]$, haciendo uso de un paso $k(x)$ y una cantidad de particiones $\"m\"$, generando una expresión que dependa únicamente del valor de $\"x\"$. Esto se realiza de la siguiente forma:\n",
    "\n",
    "\n",
    "$$\\int_{c(x)}^{d(x)} {f(x,y)}\\;dy = \\sum_{j=1}^{m} {\\left[k(x)\\cdot\\left(\\frac{f(x,c(x)+(j-1)\\cdot k(x))+f(x,c(x)+j\\cdot k(x))}{2}\\right)\\right]} = g(x)$$\n",
    "\n",
    "\n",
    "La función $g(x)$ generada a partir de este proceso es la que posteriormente integraremos con respecto a $\"x\"$ en los límites $[a,b]$ con un paso $\"h\"$ y una cantidad de particiones $\"n\"$. El valor que se obtenga, corresponderá al valor final de la integral doble.\n",
    "\n",
    "$$\\int_{a}^{b} {g(x)}\\;dx = \\sum_{j=1}^{n} {\\left[h\\cdot\\left(\\frac{g(a+(j-1)\\cdot h)+g(a+j\\cdot h)}{2}\\right)\\right]} = I*$$\n",
    "\n",
    "### Manual de uso del programa.\n",
    "#### Entradas\n",
    "\n",
    "El programa recibirá 7 parámetros ingrados por el usuario:\n",
    "\n",
    "- $f(x,y)$: Recibe una función en formato númerico aceptado por python; está debe de estar en funcion de x ^ y.\n",
    "- a: El límite inferior con respecto a $x$ de la integral.\n",
    "- b: El límite superior con respecto a $x$ de la integral.\n",
    "- c(x): El límite inferior con respecto a $y$ de la integral.\n",
    "- d(x): El límite superior con respecto a $y$ de la integral.\n",
    "- n: Cantidad de secciones en el eje $x$ a considerar.\n",
    "- m: Cantidad de secciones en el eje $y$ a considerar.\n",
    "\n",
    "#### Salidas\n",
    "- I: El valor númerico que toma la integral de la función ingresada en el intervalo dado.\n",
    "- Gráfico del área proyectada por la curva en $R^3$.\n"
   ]
  },
  {
   "cell_type": "code",
   "execution_count": 3,
   "metadata": {},
   "outputs": [],
   "source": [
    "from sympy import *\n",
    "from numpy import *\n",
    "import ipywidgets as widgets\n",
    "from IPython.display import display, Math, Latex\n",
    "import matplotlib.pyplot as plt\n",
    "import matplotlib.patches as patches"
   ]
  },
  {
   "cell_type": "code",
   "execution_count": 4,
   "metadata": {},
   "outputs": [
    {
     "data": {
      "application/vnd.jupyter.widget-view+json": {
       "model_id": "7ec479eec4554121bb937712e1bc35af",
       "version_major": 2,
       "version_minor": 0
      },
      "text/plain": [
       "Text(value='', description='Funcion:', placeholder='Funciona integrar')"
      ]
     },
     "metadata": {},
     "output_type": "display_data"
    },
    {
     "data": {
      "text/latex": [
       "$$---------------------------------------------------------------$$"
      ],
      "text/plain": [
       "<IPython.core.display.Math object>"
      ]
     },
     "metadata": {},
     "output_type": "display_data"
    },
    {
     "data": {
      "application/vnd.jupyter.widget-view+json": {
       "model_id": "c31acab33d254773a559abd2326417e0",
       "version_major": 2,
       "version_minor": 0
      },
      "text/plain": [
       "Text(value='', description='c(x) = ', placeholder='Limite inferior')"
      ]
     },
     "metadata": {},
     "output_type": "display_data"
    },
    {
     "data": {
      "application/vnd.jupyter.widget-view+json": {
       "model_id": "89276e0ebba84aceab25b03709a8d9e8",
       "version_major": 2,
       "version_minor": 0
      },
      "text/plain": [
       "Text(value='', description='d(x) = ', placeholder='Limite Superior')"
      ]
     },
     "metadata": {},
     "output_type": "display_data"
    },
    {
     "data": {
      "text/latex": [
       "$$---------------------------------------------------------------$$"
      ],
      "text/plain": [
       "<IPython.core.display.Math object>"
      ]
     },
     "metadata": {},
     "output_type": "display_data"
    },
    {
     "data": {
      "application/vnd.jupyter.widget-view+json": {
       "model_id": "2260cf2e163f4360b5f8ceffa597bea5",
       "version_major": 2,
       "version_minor": 0
      },
      "text/plain": [
       "FloatText(value=0.0, description='a = ')"
      ]
     },
     "metadata": {},
     "output_type": "display_data"
    },
    {
     "data": {
      "application/vnd.jupyter.widget-view+json": {
       "model_id": "700fbfa45e2148c38c69788945fb668b",
       "version_major": 2,
       "version_minor": 0
      },
      "text/plain": [
       "FloatText(value=1.0, description='b = ')"
      ]
     },
     "metadata": {},
     "output_type": "display_data"
    },
    {
     "data": {
      "text/latex": [
       "$$---------------------------------------------------------------$$"
      ],
      "text/plain": [
       "<IPython.core.display.Math object>"
      ]
     },
     "metadata": {},
     "output_type": "display_data"
    },
    {
     "data": {
      "application/vnd.jupyter.widget-view+json": {
       "model_id": "7365cae4c27c443793653412209f766b",
       "version_major": 2,
       "version_minor": 0
      },
      "text/plain": [
       "BoundedIntText(value=2, description='n = ', min=1)"
      ]
     },
     "metadata": {},
     "output_type": "display_data"
    },
    {
     "data": {
      "application/vnd.jupyter.widget-view+json": {
       "model_id": "e6b2a8258f2e45ff9b50aa53a2379b9c",
       "version_major": 2,
       "version_minor": 0
      },
      "text/plain": [
       "BoundedIntText(value=2, description='m = ', min=1)"
      ]
     },
     "metadata": {},
     "output_type": "display_data"
    }
   ],
   "source": [
    "x = Symbol('x')\n",
    "y = Symbol('y')\n",
    "init_printing()\n",
    "\n",
    "f_input = widgets.Text(\n",
    "    placeholder='Funciona integrar',\n",
    "    description='Funcion:',\n",
    "    disabled=False\n",
    ")\n",
    "\n",
    "cx_input = widgets.Text(\n",
    "    description = 'c(x) = ',\n",
    "    placeholder = 'Limite inferior',\n",
    "    disabled = False\n",
    ")\n",
    "\n",
    "dx_input = widgets.Text(\n",
    "    description = 'd(x) = ',\n",
    "    placeholder = 'Limite Superior',\n",
    "    disabled = False\n",
    ")\n",
    "\n",
    "a_input = widgets.FloatText(\n",
    "    value=0,\n",
    "    description='a = ',\n",
    "    disabled=False\n",
    ")\n",
    "\n",
    "b_input = widgets.FloatText(\n",
    "    value=1,\n",
    "    description='b = ',\n",
    "    disabled=False\n",
    ")\n",
    "\n",
    "n_input = widgets.BoundedIntText(\n",
    "    min = 1,\n",
    "    value=2,\n",
    "    description='n = ',\n",
    "    disabled=False\n",
    ")\n",
    "\n",
    "m_input = widgets.BoundedIntText(\n",
    "    min = 1,\n",
    "    value=2,\n",
    "    description = 'm = ',\n",
    "    placeholder='Simpson Degree y',\n",
    "    disabled=False\n",
    ")\n",
    "\n",
    "display(f_input)\n",
    "display(Math('---------------------------------------------------------------'))\n",
    "display(cx_input, dx_input)\n",
    "display(Math('---------------------------------------------------------------'))\n",
    "display(a_input, b_input)\n",
    "display(Math('---------------------------------------------------------------'))\n",
    "display(n_input, m_input)"
   ]
  },
  {
   "cell_type": "code",
   "execution_count": 5,
   "metadata": {},
   "outputs": [],
   "source": [
    "try:\n",
    "    nx = n_input.value\n",
    "    mx = n_input.value\n",
    "\n",
    "    fxy = sympify(f_input.value)\n",
    "\n",
    "    cx = sympify(cx_input.value)\n",
    "    dx = sympify(dx_input.value)\n",
    "\n",
    "    a = a_input.value\n",
    "    b = b_input.value\n",
    "\n",
    "    k = (dx - cx)/(mx)\n",
    "\n",
    "    h = (b-a)/(nx)\n",
    "except:\n",
    "    print(\"\\033[1;31;48m Error de ingreso.\")"
   ]
  },
  {
   "cell_type": "code",
   "execution_count": 9,
   "metadata": {},
   "outputs": [
    {
     "data": {
      "text/latex": [
       "$$I* = \\int_{0.0}^{1.0}\\int_{x^{2} + x}^{x} (x + y)\\; dy\\; dx = -0.62664$$"
      ],
      "text/plain": [
       "<IPython.core.display.Math object>"
      ]
     },
     "metadata": {},
     "output_type": "display_data"
    },
    {
     "data": {
      "text/latex": [
       "$$Superficie \\;xy$$"
      ],
      "text/plain": [
       "<IPython.core.display.Math object>"
      ]
     },
     "metadata": {},
     "output_type": "display_data"
    },
    {
     "data": {
      "image/png": "[encoded data removed]",
      "text/plain": [
       "<Figure size 432x288 with 1 Axes>"
      ]
     },
     "metadata": {},
     "output_type": "display_data"
    }
   ],
   "source": [
    "gx = 0\n",
    "\n",
    "for i in range(1, mx+1):\n",
    "    gx = gx + (k/2)*(fxy.subs(y,cx+(i-1)*k) + fxy.subs(y,cx+(i)*k))\n",
    "\n",
    "I = 0\n",
    "\n",
    "for i in range(1,nx+1):\n",
    "    I = I + (h/2)*(gx.subs(x,a+(i-1)*h) + gx.subs(x,a+(i)*h))\n",
    "\n",
    "display(Math(\"I* = \\int_{\"+latex(a)+\"}^{\"+latex(b)+\"}\\int_{\"+latex(cx)+\"}^{\"+latex(dx)+\"} (\"+latex(fxy)+\")\\; dy\\; dx = \"+latex(I)))\n",
    "\n",
    "fig2 = plt.figure()\n",
    "ax2 = fig2.add_subplot(111)\n",
    "\n",
    "lista = []\n",
    "\n",
    "dfx =cx \n",
    "\n",
    "for i in range(0, (nx)+1):\n",
    "    lista.append(dfx.subs(x, a +i*h ))\n",
    "\n",
    "for i in range(0,(nx)):\n",
    "    for w in range(0,(mx)):\n",
    "        points = [[a + i*h, dfx.subs(x,a + i*h) + w*k.subs(x,a + i*h)], [a + (i+1)*h, dfx.subs(x,a + (i+1)*h) + w*k.subs(x,a + (i+1)*h)], [a + (i+1)*h, dfx.subs(x,a + (i+1)*h) + (w+1)*k.subs(x,a + (i+1)*h)], [a + i*h, dfx.subs(x,a + i*h) + (w+1)*k.subs(x,a + i*h)], [a + i*h, dfx.subs(x,a + i*h) + w*k.subs(x,a + i*h)] ] #the points to trace the edges.\n",
    "\n",
    "        polygon= plt.Polygon(points,  fill=None, edgecolor='g')\n",
    "\n",
    "        ax2.add_patch(polygon)\n",
    "\n",
    "max_var = max(lista)\n",
    "min_var = min(lista)\n",
    "\n",
    "eps = (b-a)/30\n",
    "\n",
    "if min_var >= 0:\n",
    "    min_var = 0\n",
    "    \n",
    "axes = plt.gca()\n",
    "axes.set_xlim([a-eps,b+eps])\n",
    "display(Math(\"Superficie \\;xy\"))\n",
    "axes.set_ylim([float(min_var)-eps,float(max_var)+eps])\n",
    "plt.show()"
   ]
  },
  {
   "cell_type": "code",
   "execution_count": null,
   "metadata": {},
   "outputs": [],
   "source": []
  }
 ],
 "metadata": {
  "kernelspec": {
   "display_name": "Python 3",
   "language": "python",
   "name": "python3"
  },
  "language_info": {
   "codemirror_mode": {
    "name": "ipython",
    "version": 3
   },
   "file_extension": ".py",
   "mimetype": "text/x-python",
   "name": "python",
   "nbconvert_exporter": "python",
   "pygments_lexer": "ipython3",
   "version": "3.6.5"
  }
 },
 "nbformat": 4,
 "nbformat_minor": 2
}

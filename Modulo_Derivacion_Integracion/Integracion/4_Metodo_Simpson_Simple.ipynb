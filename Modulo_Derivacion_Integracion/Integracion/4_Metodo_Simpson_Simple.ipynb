{
 "cells": [
  {
   "cell_type": "markdown",
   "metadata": {},
   "source": [
    "## Método de Simpson para integrales simples.\n",
    "\n",
    "Este método numérico aproxima el valor de la integral a partir de sumas finitas de trapecios consecutivos generados a partir de los valores de la funcion evaluados en dos puntos especificos del intervalo dado. A diferencia del método anterior este utiliza una mejor aproximación, con una mejora de convergencia.\n",
    "\n",
    "### Método numérico.\n",
    "\n",
    "Para poder generar dichos trapecios haremos uso del mismo paso $h$ que dividirá el intervalo $[a,b]$ en $n$ particiones iguales, con la única diferencia que este valor deberá ser par $(2n)$; por lo que el valor de este paso estará dado por:\n",
    "\n",
    "$$h = \\frac{b-a}{2n}$$\n",
    "\n",
    "Por lo que se tomarán nodos en x obtenidos por:\n",
    "\n",
    "$$x_{j} = a+(j-1)\\cdot h \\;\\;\\;\\; \\forall j = 1,2,3,...,n+1$$\n",
    "\n",
    "Este método igual basa su algoritmo en la generación de trapecios consecutivos, pero no realiza la suma de ellos de forma convencional. El nuevo valor de la integral será dado por:\n",
    "\n",
    "$$I* = \\left(\\frac{4}{3}T_{2n} - \\frac{T_n}{3}\\right)$$\n",
    "\n",
    "Desarrollando la ecuación, dejandola en función de sumatorias:\n",
    "\n",
    "$$\\int_{a}^{b} {f(x)}\\;dx = \\frac{h}{3}\\left[ f(a) + 4\\sum_{j=1}^{n}\\left( f(a + (2j -1)h) \\right) + 2\\sum_{j=1}^{n-1}\\left( f(a + (2j)h) \\right) + f(b) \\right] = I*$$\n",
    "\n",
    "### Error del método\n",
    "\n",
    "Como todo método numérico, al aproximar valores, se cometen errores con respecto a los valores reales. En el caso del método del trapecio para la aproximación de una integral simple, se comete un error que viene dado por:\n",
    "\n",
    "$$\\left|I - I*\\right| \\leq \\frac{b-a}{180}\\cdot\\left|{max(f^4(x))\\cdot h^4}\\right|$$\n",
    "\n",
    "### Manual de uso del programa\n",
    "#### Entradas\n",
    "\n",
    "El programa recibirá 4 parámetros ingrados por el usuario:\n",
    "\n",
    "- $f(x)$: Recibe una función en formato númerico aceptado por python; está debe de estar simplemente en funcion de x.\n",
    "- a: El límite inferior de la integral.\n",
    "- b: El límite superior de la integral.\n",
    "- n: Cantidad de trapecios a considerar, debe de  ser par $(2k)$.\n",
    "\n",
    "#### Salidas\n",
    "- I: El valor númerico que toma la integral de la función ingresada en el intervalo dado.\n",
    "- Gráfico de los trapecios formados por la integral."
   ]
  },
  {
   "cell_type": "code",
   "execution_count": 2,
   "metadata": {},
   "outputs": [],
   "source": [
    "from sympy import *\n",
    "from numpy import *\n",
    "import ipywidgets as widgets\n",
    "from IPython.display import display, Math, Latex\n",
    "import matplotlib.pyplot as plt\n",
    "import matplotlib.patches as patches"
   ]
  },
  {
   "cell_type": "code",
   "execution_count": 3,
   "metadata": {},
   "outputs": [
    {
     "data": {
      "application/vnd.jupyter.widget-view+json": {
       "model_id": "57a4683267d54ef7ac0fa29fa25d49b2",
       "version_major": 2,
       "version_minor": 0
      },
      "text/plain": [
       "Text(value='', description='Funcion:', placeholder='Funciona integrar')"
      ]
     },
     "metadata": {},
     "output_type": "display_data"
    },
    {
     "data": {
      "text/latex": [
       "$$---------------------------------------------------------------$$"
      ],
      "text/plain": [
       "<IPython.core.display.Math object>"
      ]
     },
     "metadata": {},
     "output_type": "display_data"
    },
    {
     "data": {
      "application/vnd.jupyter.widget-view+json": {
       "model_id": "fdf9f2818e8e4c718976a9d2953afd53",
       "version_major": 2,
       "version_minor": 0
      },
      "text/plain": [
       "FloatText(value=0.0, description='Límite Inferior:')"
      ]
     },
     "metadata": {},
     "output_type": "display_data"
    },
    {
     "data": {
      "application/vnd.jupyter.widget-view+json": {
       "model_id": "fc0d26684e8c4a3db34130e7aeb08ae2",
       "version_major": 2,
       "version_minor": 0
      },
      "text/plain": [
       "FloatText(value=1.0, description='Límite Superior:')"
      ]
     },
     "metadata": {},
     "output_type": "display_data"
    },
    {
     "data": {
      "text/latex": [
       "$$---------------------------------------------------------------$$"
      ],
      "text/plain": [
       "<IPython.core.display.Math object>"
      ]
     },
     "metadata": {},
     "output_type": "display_data"
    },
    {
     "data": {
      "application/vnd.jupyter.widget-view+json": {
       "model_id": "851cca8b3ba440aeb148bf85e6abb311",
       "version_major": 2,
       "version_minor": 0
      },
      "text/plain": [
       "BoundedIntText(value=2, description='n:', min=2)"
      ]
     },
     "metadata": {},
     "output_type": "display_data"
    }
   ],
   "source": [
    "x = Symbol('x')\n",
    "init_printing()\n",
    "f_input = widgets.Text(\n",
    "    placeholder='Funciona integrar',\n",
    "    description='Funcion:',\n",
    "    disabled=False\n",
    ")\n",
    "display(f_input)\n",
    "display(Math('---------------------------------------------------------------'))\n",
    "\n",
    "a_input = widgets.FloatText(\n",
    "    value=0,\n",
    "    description='Límite Inferior:',\n",
    "    disabled=False\n",
    ")\n",
    "\n",
    "b_input = widgets.FloatText(\n",
    "    value=1,\n",
    "    description='Límite Superior:',\n",
    "    disabled=False\n",
    ")\n",
    "display(a_input, b_input)\n",
    "\n",
    "n_input = widgets.BoundedIntText(\n",
    "    min=2,\n",
    "    value=2,\n",
    "    description='n:',\n",
    "    disabled=False\n",
    ")\n",
    "display(Math('---------------------------------------------------------------'))\n",
    "display(n_input)"
   ]
  },
  {
   "cell_type": "code",
   "execution_count": 6,
   "metadata": {},
   "outputs": [],
   "source": [
    "try:\n",
    "    fx = sympify(f_input.value)\n",
    "    li = a_input.value\n",
    "    ls = b_input.value\n",
    "    n = n_input.value\n",
    "    \n",
    "    if n % 2 != 0:\n",
    "        print(\"\\033[1;31;48m El valor de n debe de ser par.\")\n",
    "        raise ValueError('A very specific bad thing happened.')\n",
    "    else:\n",
    "        nx = int(n/2)\n",
    "\n",
    "    h = (ls-li)/(2*nx)\n",
    "except:\n",
    "    print(\"\\033[1;31;48m Error de ingreso.\")"
   ]
  },
  {
   "cell_type": "code",
   "execution_count": 7,
   "metadata": {},
   "outputs": [
    {
     "data": {
      "text/latex": [
       "$$I = \\int_{1.0}^{10.0} x \\log{\\left (x^{2} \\right )}\\; dx = 180.758911169191$$"
      ],
      "text/plain": [
       "<IPython.core.display.Math object>"
      ]
     },
     "metadata": {},
     "output_type": "display_data"
    },
    {
     "data": {
      "text/latex": [
       "$$Representación\\;Gráfica$$"
      ],
      "text/plain": [
       "<IPython.core.display.Math object>"
      ]
     },
     "metadata": {},
     "output_type": "display_data"
    },
    {
     "data": {
      "image/png": "[encoded data removed]",
      "text/plain": [
       "<Figure size 432x288 with 1 Axes>"
      ]
     },
     "metadata": {},
     "output_type": "display_data"
    }
   ],
   "source": [
    "I = fx.subs(x,li)\n",
    "\n",
    "#No es nx por la inclusion en funcion range()\n",
    "for i in range(1,nx+1):\n",
    "    I = I + (4 * (fx.subs(x,li + (((2*i)-1)*h))))\n",
    "\n",
    "#Idem que el caso anterior\n",
    "for i in range(1,nx):\n",
    "    I = I + (2 * (fx.subs(x,li + ((2*i)*h))))\n",
    "\n",
    "I = (h/3)*(I + fx.subs(x, ls))\n",
    "\n",
    "display(Math(\"I = \\int_{\"+latex(li)+\"}^{\"+latex(ls)+\"} \"+latex(fx)+\"\\; dx = \"+latex(I)))\n",
    "\n",
    "fig2 = plt.figure()\n",
    "ax2 = fig2.add_subplot(111)\n",
    "\n",
    "lista = []\n",
    "\n",
    "for i in range(0, (2*nx)+1):\n",
    "    lista.append(fx.subs(x, li + i*h))\n",
    "\n",
    "for i in range(0,(2*nx)):\n",
    "    \n",
    "    points = [[li+i*h, 0], [li+i*h, fx.subs(x,li+i*h)], [li+(i+1)*h, fx.subs(x,li+(i+1)*h)], [li+(i+1)*h, 0], [li+i*h, 0]] #the points to trace the edges.\n",
    "\n",
    "    polygon= plt.Polygon(points,  fill=None, edgecolor='g')\n",
    "\n",
    "    ax2.add_patch(polygon)\n",
    "\n",
    "max_var = max(lista)\n",
    "min_var = min(lista)\n",
    "\n",
    "if min_var >= 0:\n",
    "    min_var = 0\n",
    "    \n",
    "eps = (ls-li)/30\n",
    "\n",
    "axes = plt.gca()\n",
    "axes.set_xlim([li-eps,ls+eps])\n",
    "display(Math(\"Representación\\;Gráfica\"))\n",
    "axes.set_ylim([float(min_var)-eps,float(max_var)+eps])\n",
    "plt.show() "
   ]
  },
  {
   "cell_type": "code",
   "execution_count": null,
   "metadata": {},
   "outputs": [],
   "source": []
  }
 ],
 "metadata": {
  "kernelspec": {
   "display_name": "Python 3",
   "language": "python",
   "name": "python3"
  },
  "language_info": {
   "codemirror_mode": {
    "name": "ipython",
    "version": 3
   },
   "file_extension": ".py",
   "mimetype": "text/x-python",
   "name": "python",
   "nbconvert_exporter": "python",
   "pygments_lexer": "ipython3",
   "version": "3.6.5"
  }
 },
 "nbformat": 4,
 "nbformat_minor": 2
}

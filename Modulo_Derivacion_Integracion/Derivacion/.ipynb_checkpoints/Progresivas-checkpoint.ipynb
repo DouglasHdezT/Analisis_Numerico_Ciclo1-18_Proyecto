{
 "cells": [
  {
   "cell_type": "markdown",
   "metadata": {},
   "source": [
    " ## $$\\, Aproximación \\, de \\, derivada \\, mediante \\, diferencias \\, progresivas$$"
   ]
  },
  {
   "cell_type": "markdown",
   "metadata": {},
   "source": [
    "### $$\\lambda \\, f'(x)= {f(x+h)-f(x)}$$"
   ]
  },
  {
   "cell_type": "markdown",
   "metadata": {},
   "source": [
    "### $$ Al \\, usar \\, direfencias \\, pogresivas \\, como \\, operador, \\, el \\, error \\, se \\, propaga \\, e \\, incrementa \\, en \\, altas \\, diferencias \\, progresivas $$"
   ]
  },
  {
   "cell_type": "markdown",
   "metadata": {},
   "source": [
    "### $$ Dado \\, un \\, paso \\; 'h' \\, (imcremento) \\, en \\, una \\, tabulación \\, de \\, f(x), \\, el \\, operador \\, de \\, diferencias \\, progresivas \\,\\lambda \\, f(x) \\, se \\, define \\, como $$"
   ]
  },
  {
   "cell_type": "markdown",
   "metadata": {},
   "source": [
    "### $$ \\lambda h \\, f(x) = f(x+h)-f(x) \\, \\approx \\, \\lambda f(x) $$"
   ]
  },
  {
   "cell_type": "code",
   "execution_count": 1,
   "metadata": {},
   "outputs": [],
   "source": [
    "from sympy import *\n",
    "from scipy.misc import derivative \n",
    "from IPython.display import display, Math, Latex\n",
    "from sympy.parsing.sympy_parser import parse_expr"
   ]
  },
  {
   "cell_type": "code",
   "execution_count": 2,
   "metadata": {},
   "outputs": [
    {
     "name": "stdout",
     "output_type": "stream",
     "text": [
      "Ingrese funcion: x^2\n",
      "ingrese Grado: 1\n",
      "Ingrese h: 0.001\n",
      "Ingrese x: 5\n"
     ]
    },
    {
     "ename": "TypeError",
     "evalue": "unsupported operand type(s) for -: 'Not' and 'Not'",
     "output_type": "error",
     "traceback": [
      "\u001b[1;31m---------------------------------------------------------------------------\u001b[0m",
      "\u001b[1;31mTypeError\u001b[0m                                 Traceback (most recent call last)",
      "\u001b[1;32m<ipython-input-2-d25d348f5170>\u001b[0m in \u001b[0;36m<module>\u001b[1;34m()\u001b[0m\n\u001b[0;32m     22\u001b[0m \u001b[1;33m\u001b[0m\u001b[0m\n\u001b[0;32m     23\u001b[0m \u001b[1;31m#Evaluacion\u001b[0m\u001b[1;33m\u001b[0m\u001b[1;33m\u001b[0m\u001b[0m\n\u001b[1;32m---> 24\u001b[1;33m \u001b[0mdiff_p\u001b[0m \u001b[1;33m=\u001b[0m \u001b[0mdiferencia_progresiva\u001b[0m\u001b[1;33m(\u001b[0m\u001b[0mf\u001b[0m\u001b[1;33m,\u001b[0m \u001b[0mx\u001b[0m\u001b[1;33m,\u001b[0m \u001b[0mk\u001b[0m\u001b[1;33m)\u001b[0m\u001b[1;33m/\u001b[0m\u001b[1;33m(\u001b[0m\u001b[0mh\u001b[0m\u001b[1;33m**\u001b[0m\u001b[0mk\u001b[0m\u001b[1;33m)\u001b[0m\u001b[1;33m\u001b[0m\u001b[0m\n\u001b[0m\u001b[0;32m     25\u001b[0m \u001b[0mdiff_p\u001b[0m \u001b[1;33m=\u001b[0m \u001b[0mdiff_p\u001b[0m\u001b[1;33m.\u001b[0m\u001b[0msubs\u001b[0m\u001b[1;33m(\u001b[0m\u001b[0mx\u001b[0m\u001b[1;33m,\u001b[0m \u001b[0mx2\u001b[0m\u001b[1;33m)\u001b[0m\u001b[1;33m.\u001b[0m\u001b[0msubs\u001b[0m\u001b[1;33m(\u001b[0m\u001b[0mh\u001b[0m\u001b[1;33m,\u001b[0m \u001b[0mh2\u001b[0m\u001b[1;33m)\u001b[0m\u001b[1;33m\u001b[0m\u001b[0m\n\u001b[0;32m     26\u001b[0m \u001b[1;33m\u001b[0m\u001b[0m\n",
      "\u001b[1;32m<ipython-input-2-d25d348f5170>\u001b[0m in \u001b[0;36mdiferencia_progresiva\u001b[1;34m(f, arg, n)\u001b[0m\n\u001b[0;32m      8\u001b[0m         \u001b[1;32mreturn\u001b[0m \u001b[0mf\u001b[0m\u001b[1;33m.\u001b[0m\u001b[0msubs\u001b[0m\u001b[1;33m(\u001b[0m\u001b[0mx\u001b[0m\u001b[1;33m,\u001b[0m \u001b[0marg\u001b[0m\u001b[1;33m)\u001b[0m\u001b[1;33m\u001b[0m\u001b[0m\n\u001b[0;32m      9\u001b[0m     \u001b[1;31m#print(\"valor de arg\", arg)\u001b[0m\u001b[1;33m\u001b[0m\u001b[1;33m\u001b[0m\u001b[0m\n\u001b[1;32m---> 10\u001b[1;33m     \u001b[1;32mreturn\u001b[0m \u001b[0mdiferencia_progresiva\u001b[0m\u001b[1;33m(\u001b[0m\u001b[0mf\u001b[0m\u001b[1;33m,\u001b[0m \u001b[0marg\u001b[0m \u001b[1;33m+\u001b[0m \u001b[0mh\u001b[0m\u001b[1;33m,\u001b[0m \u001b[0mn\u001b[0m \u001b[1;33m-\u001b[0m \u001b[1;36m1\u001b[0m\u001b[1;33m)\u001b[0m \u001b[1;33m-\u001b[0m \u001b[0mdiferencia_progresiva\u001b[0m\u001b[1;33m(\u001b[0m\u001b[0mf\u001b[0m\u001b[1;33m,\u001b[0m \u001b[0marg\u001b[0m\u001b[1;33m,\u001b[0m \u001b[0mn\u001b[0m \u001b[1;33m-\u001b[0m \u001b[1;36m1\u001b[0m\u001b[1;33m)\u001b[0m\u001b[1;33m\u001b[0m\u001b[0m\n\u001b[0m\u001b[0;32m     11\u001b[0m \u001b[1;33m\u001b[0m\u001b[0m\n\u001b[0;32m     12\u001b[0m \u001b[0mj\u001b[0m\u001b[1;33m=\u001b[0m\u001b[1;36m0\u001b[0m\u001b[1;33m\u001b[0m\u001b[0m\n",
      "\u001b[1;31mTypeError\u001b[0m: unsupported operand type(s) for -: 'Not' and 'Not'"
     ]
    }
   ],
   "source": [
    "x, h = symbols('x h')\n",
    "f = Function('f')(x)\n",
    "f = parse_expr(input(\"Ingrese funcion: \"))\n",
    "\n",
    "def diferencia_progresiva(f, arg, n):\n",
    "    if(n == 0):\n",
    "        #print(\"valor de x\", x)\n",
    "        return f.subs(x, arg)\n",
    "    #print(\"valor de arg\", arg)\n",
    "    return diferencia_progresiva(f, arg + h, n - 1) - diferencia_progresiva(f, arg, n - 1)\n",
    "\n",
    "j=0\n",
    "while j<2:\n",
    "    try:\n",
    "        #Datos de entrada progrsiva\n",
    "        k = int(input(\"ingrese Grado: \"))\n",
    "        h2 = float(input(\"Ingrese h: \"))\n",
    "        x2 = float(input(\"Ingrese x: \"))\n",
    "        j=3\n",
    "    except Exception as e:\n",
    "        print(\"Dato incorrecto\")\n",
    "\n",
    "#Evaluacion\n",
    "diff_p = diferencia_progresiva(f, x, k)/(h**k)\n",
    "diff_p = diff_p.subs(x, x2).subs(h, h2)\n",
    "\n",
    "#Se calcula la derivada de la funcion\n",
    "derivada = f.diff(x,k)\n",
    "derivada = derivada.subs(x,x2)\n",
    "\n",
    "#Mostramos resultado \n",
    "display(Math(\"F(x)=\" + latex(f)))\n",
    "display(Math(\"Grado= \" + latex(k)))\n",
    "display(Math(\"Paso \\, h= \" + latex(h2)))\n",
    "display(Math(\"Valor \\, x= \" + latex(x2)))\n",
    "display(Math(\"Aproximación= \" + latex(diff_p)))\n",
    "display(Math(\"Valor \\, Real=\" + latex(derivada)))"
   ]
  },
  {
   "cell_type": "code",
   "execution_count": null,
   "metadata": {},
   "outputs": [],
   "source": []
  }
 ],
 "metadata": {
  "kernelspec": {
   "display_name": "Python 3",
   "language": "python",
   "name": "python3"
  },
  "language_info": {
   "codemirror_mode": {
    "name": "ipython",
    "version": 3
   },
   "file_extension": ".py",
   "mimetype": "text/x-python",
   "name": "python",
   "nbconvert_exporter": "python",
   "pygments_lexer": "ipython3",
   "version": "3.6.5"
  }
 },
 "nbformat": 4,
 "nbformat_minor": 2
}

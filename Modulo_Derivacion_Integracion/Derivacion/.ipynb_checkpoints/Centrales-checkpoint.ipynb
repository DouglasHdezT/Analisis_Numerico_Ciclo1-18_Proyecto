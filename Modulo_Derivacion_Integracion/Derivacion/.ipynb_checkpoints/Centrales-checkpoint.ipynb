{
 "cells": [
  {
   "cell_type": "markdown",
   "metadata": {},
   "source": [
    " ## $$\\, Aproximación \\, de \\, derivada \\, mediante \\, diferencias \\, centrales$$"
   ]
  },
  {
   "cell_type": "markdown",
   "metadata": {},
   "source": [
    "## $$ El \\, operador \\, de \\, diferencia \\, central \\, (\\gamma \\,) se \\, define \\, mediante \\, la \\, relacion $$"
   ]
  },
  {
   "cell_type": "markdown",
   "metadata": {},
   "source": [
    "### $$ \\gamma f(x) \\, = \\, \\lambda f(x-\\frac{h}{2}) \\, f(x)= {f(x+ \\frac{h}{2})-f(x- \\frac{h}{2})}$$"
   ]
  },
  {
   "cell_type": "markdown",
   "metadata": {},
   "source": [
    "## $$ En \\, general $$"
   ]
  },
  {
   "cell_type": "markdown",
   "metadata": {},
   "source": [
    "##  $$ f^{k} = \\frac{\\gamma ^{k} \\, f(x)}{h^{k}} \\, con \\; O(h^{2}) $$"
   ]
  },
  {
   "cell_type": "markdown",
   "metadata": {},
   "source": [
    "### $$ La \\, ecuación \\, es \\, una \\, representacion \\, de \\, las \\, diferencias \\, centradas \\, de \\, la \\, primera \\, derivada. \\, Observe \\, que \\, el \\, error \\, de \\, truncamineto \\, es \\, de \\, orden \\, \"h^{2}\" \\, en \\, contraste \\, con \\, la \\, aproximación \\, progresiva \\, de \\, orden \\, \"h\" $$"
   ]
  },
  {
   "cell_type": "code",
   "execution_count": null,
   "metadata": {},
   "outputs": [],
   "source": [
    "from sympy import *\n",
    "from scipy.misc import derivative \n",
    "from IPython.display import display, Math, Latex\n",
    "from sympy.parsing.sympy_parser import parse_expr"
   ]
  },
  {
   "cell_type": "code",
   "execution_count": null,
   "metadata": {
    "scrolled": false
   },
   "outputs": [],
   "source": [
    "x, h = symbols('x h')\n",
    "f = Function('f')(x)\n",
    "f = parse_expr(input(\"Ingrese funcion: \"))\n",
    "\n",
    "def diferencia_centrada(f, arg, n):\n",
    "    if(n == 0):\n",
    "        return f.subs(x, arg)\n",
    "    return diferencia_centrada(f, arg + h/2, n - 1) - diferencia_centrada(f, arg - h/2, n - 1)\n",
    "\n",
    "#si existe un error al ingresar un dato\n",
    "i=0\n",
    "while i<2:\n",
    "    try:\n",
    "        #Datos de entrada centrada\n",
    "        k = int(input(\"ingrese Grado: \"))\n",
    "        h1 = float(input(\"Ingrese h: \"))\n",
    "        x1 = float(input(\"Ingrese x: \"))\n",
    "        i = 3\n",
    "    except Exception as e:\n",
    "        print(\"Dato incorrecto\")\n",
    "\n",
    "#Evaluacion\n",
    "diff_c = diferencia_centrada(f, x, k)/(h**k)\n",
    "diff_c = diff_c.subs(x, x1).subs(h, h1)\n",
    "\n",
    "#Se calcula la derivada real\n",
    "derivada = f.diff(x,k)\n",
    "derivada = derivada.subs(x,x1)\n",
    "    \n",
    "#Mostramos resultado \n",
    "display(Math(\"F(x)=\" + latex(f)))\n",
    "display(Math(\"Grado= \" + latex(k)))\n",
    "display(Math(\"Paso \\, h= \"+ latex(h1)))\n",
    "display(Math(\"Valor \\, x= \" + latex(x1)))\n",
    "display(Math(\"Aproximación= \" + latex(diff_c)))\n",
    "display(Math(\"Valor \\, Real=\" + latex(derivada)))"
   ]
  },
  {
   "cell_type": "code",
   "execution_count": null,
   "metadata": {},
   "outputs": [],
   "source": []
  }
 ],
 "metadata": {
  "kernelspec": {
   "display_name": "Python 3",
   "language": "python",
   "name": "python3"
  },
  "language_info": {
   "codemirror_mode": {
    "name": "ipython",
    "version": 3
   },
   "file_extension": ".py",
   "mimetype": "text/x-python",
   "name": "python",
   "nbconvert_exporter": "python",
   "pygments_lexer": "ipython3",
   "version": "3.6.5"
  }
 },
 "nbformat": 4,
 "nbformat_minor": 2
}

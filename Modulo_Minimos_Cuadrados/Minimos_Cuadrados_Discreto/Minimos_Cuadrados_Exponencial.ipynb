{
 "cells": [
  {
   "cell_type": "markdown",
   "metadata": {},
   "source": [
    "# # Minimos cuadrados: Caso Exponencial.\n",
    "\n",
    " El caso exponencial de minimos cuadrados sigue el mismo estandar de ecuaciones que el caso discreto, sin embargo al caso exponencial se le aplica un logaritmo natural a la nube de puntos en \"Y\".\n",
    " \n",
    " Ecuaciones:\n",
    " \n",
    " n: Numero de funciones-menos la unidad.\n",
    " \n",
    " m: Numero de nodos menos la unidad.\n",
    " \n",
    " $$y = ce^{kx}$$\n",
    " \n",
    " \n",
    " $$ln(c) = ln(ce^{kx})$$\n",
    " \n",
    " \n",
    " $$ln(y) = ln(c)+kx, \\ c_0 = ln(y), \\ c_1 = k$$\n",
    " \n",
    " $$ln(y) = c_0 + c_1x$$\n",
    " \n",
    " \n",
    " $$A = \\sum_{i=0}^{m}\\begin{bmatrix}1 & x_i \\\\ x_1 & x_i^{2} \\end{bmatrix}$$\n",
    " \n",
    "  $$b_{\\ nx1} = \\sum_{i=0}^{m}\\begin{bmatrix}1 \\\\ x_1 \\end{bmatrix}ln(f(x_i)))$$\n",
    "\n",
    " \n",
    " $$y = ce^{k}$$\n",
    " \n",
    " \n",
    " $$c = e^{c_0}$$\n",
    " \n",
    " \n",
    " $$k = c_1$$\n",
    " \n",
    " \n",
    " $$y = e^{c_0}e^{c_1x}$$"
   ]
  },
  {
   "cell_type": "code",
   "execution_count": 1,
   "metadata": {},
   "outputs": [],
   "source": [
    "from ipywidgets import widgets \n",
    "from IPython.display import display, Math, Latex\n",
    "from IPython.core.display import display, HTML\n",
    "from sympy import *\n",
    "from numpy import * \n",
    "import numpy as np\n",
    "import sympy as sp\n",
    "import matplotlib.pyplot as plt\n",
    "\n",
    "init_printing()"
   ]
  },
  {
   "cell_type": "code",
   "execution_count": 3,
   "metadata": {},
   "outputs": [
    {
     "name": "stdout",
     "output_type": "stream",
     "text": [
      "Ingrese los valores en x:\n"
     ]
    },
    {
     "data": {
      "application/vnd.jupyter.widget-view+json": {
       "model_id": "dd8ff125be0a46d8a502df4636c7af31",
       "version_major": 2,
       "version_minor": 0
      },
      "text/plain": [
       "Text(value='')"
      ]
     },
     "metadata": {},
     "output_type": "display_data"
    },
    {
     "name": "stdout",
     "output_type": "stream",
     "text": [
      "Ingrese los valores en y:\n"
     ]
    },
    {
     "data": {
      "application/vnd.jupyter.widget-view+json": {
       "model_id": "e1185b1453d147a1881f03487a4d0244",
       "version_major": 2,
       "version_minor": 0
      },
      "text/plain": [
       "Text(value='')"
      ]
     },
     "metadata": {},
     "output_type": "display_data"
    }
   ],
   "source": [
    "print(\"Ingrese los valores en x:\")\n",
    "text_x=widgets.Text();\n",
    "display(text_x)\n",
    "print(\"Ingrese los valores en y:\")\n",
    "text_y=widgets.Text()\n",
    "display(text_y)\n"
   ]
  },
  {
   "cell_type": "code",
   "execution_count": 4,
   "metadata": {},
   "outputs": [],
   "source": [
    "xi = text_x.value.split(\",\")\n",
    "xi = set(xi)\n",
    "yi= text_y.value.split(\",\")\n",
    "if len(xi)==len(yi):\n",
    "    try:\n",
    "        xi = list(map(float, xi))\n",
    "        yi = list(map(float, yi))\n",
    "        xi = sorted(xi)\n",
    "    except:\n",
    "        display(HTML(\"<h3 style='color:red'>Error en los datos, porfavor verificar que sean valores numericos.</h3>\"))\n",
    "else:\n",
    "    display(HTML(\"<h3 style='color:red'>Error en los datos, porfavor verificar logitud de valores.</h3>\"))"
   ]
  },
  {
   "cell_type": "code",
   "execution_count": 5,
   "metadata": {},
   "outputs": [
    {
     "data": {
      "text/html": [
       "<h3>Matriz de ecuaciones:</h3>"
      ],
      "text/plain": [
       "<IPython.core.display.HTML object>"
      ]
     },
     "metadata": {},
     "output_type": "display_data"
    },
    {
     "data": {
      "text/latex": [
       "$$\\left[\\begin{matrix}1 & x\\\\x & x^{2}\\end{matrix}\\right]$$"
      ],
      "text/plain": [
       "⎡1  x ⎤\n",
       "⎢     ⎥\n",
       "⎢    2⎥\n",
       "⎣x  x ⎦"
      ]
     },
     "metadata": {},
     "output_type": "display_data"
    },
    {
     "data": {
      "text/html": [
       "<h3>Matriz de coeficientes a los cuales se les aplica Ln:</h3>"
      ],
      "text/plain": [
       "<IPython.core.display.HTML object>"
      ]
     },
     "metadata": {},
     "output_type": "display_data"
    },
    {
     "data": {
      "text/latex": [
       "$$\\left[\\begin{matrix}-0.156677843815531\\\\0.813814742723597\\end{matrix}\\right]$$"
      ],
      "text/plain": [
       "⎡-0.156677843815531⎤\n",
       "⎢                  ⎥\n",
       "⎣0.813814742723597 ⎦"
      ]
     },
     "metadata": {},
     "output_type": "display_data"
    },
    {
     "data": {
      "text/html": [
       "<h3>Polinomio Interpolante</h3>"
      ],
      "text/plain": [
       "<IPython.core.display.HTML object>"
      ]
     },
     "metadata": {},
     "output_type": "display_data"
    },
    {
     "data": {
      "text/latex": [
       "$$P(x)=0.854979451373449 e^{0.813814742723597 x}$$"
      ],
      "text/plain": [
       "<IPython.core.display.Math object>"
      ]
     },
     "metadata": {},
     "output_type": "display_data"
    }
   ],
   "source": [
    "x = Symbol('x')\n",
    "e = Symbol('e')\n",
    "rs = Function('rs')(x)\n",
    "mf = Function('mf')(x)\n",
    "mft = Function('mft')(x)\n",
    "px = Function('px')(x)\n",
    "\n",
    "wizzard = [0]*(2)\n",
    "for i in range(0,2):\n",
    "    wizzard[i]=x**i\n",
    "mf = Matrix([wizzard])\n",
    "\n",
    "#print(mf)\n",
    "\n",
    "mft=mf.T\n",
    "#display(mft)\n",
    "\n",
    "#print(mft)\n",
    "rs=mft*mf\n",
    "display(HTML(\"<h3>Matriz de ecuaciones:</h3>\"))\n",
    "display(rs)\n",
    "\n",
    "a = zeros(shape=(2,2))\n",
    "for i in range(0,len(xi)):\n",
    "    a = a + rs.subs(x,xi[i])\n",
    "#display(a)\n",
    "\n",
    "b = zeros(shape=(2,1))\n",
    "for i in range(0,len(xi)):\n",
    "    b = b + mft.subs(x,xi[i])*ln(yi[i])\n",
    "#display(b)\n",
    "c = (a.inv()*b)\n",
    "display(HTML(\"<h3>Matriz de coeficientes a los cuales se les aplica Ln:</h3>\"))\n",
    "display(c)\n",
    "\n",
    "\n",
    "final = [0]*(2)\n",
    "px=0\n",
    "for i in range(0,1):\n",
    "    final[i]= np.float(c[i])\n",
    "    final[i] = np.exp(final[i])*(e**(c[i-1]*x))\n",
    "\n",
    "    px = px+final[i]\n",
    "    \n",
    "display(HTML(\"<h3>Polinomio Interpolante</h3>\"))\n",
    "display(Math(\"P(x)=\"+latex(px)))"
   ]
  },
  {
   "cell_type": "code",
   "execution_count": 7,
   "metadata": {},
   "outputs": [
    {
     "name": "stdout",
     "output_type": "stream",
     "text": [
      "Evaluar polinomio en un punto\n"
     ]
    },
    {
     "data": {
      "application/vnd.jupyter.widget-view+json": {
       "model_id": "da377899508d41fc9219e768191d0429",
       "version_major": 2,
       "version_minor": 0
      },
      "text/plain": [
       "BoundedFloatText(value=0.0, description='x:', step=0.1)"
      ]
     },
     "metadata": {},
     "output_type": "display_data"
    }
   ],
   "source": [
    "print(\"Evaluar polinomio en un punto\")\n",
    "text_value = widgets.BoundedFloatText(\n",
    "    value=0.0,\n",
    "    step=0.1,\n",
    "    description='x:',\n",
    "    disabled=False\n",
    ")\n",
    "display(text_value)"
   ]
  },
  {
   "cell_type": "code",
   "execution_count": 8,
   "metadata": {},
   "outputs": [
    {
     "data": {
      "text/latex": [
       "$$P(1.1)=2.09283241960596$$"
      ],
      "text/plain": [
       "<IPython.core.display.Math object>"
      ]
     },
     "metadata": {},
     "output_type": "display_data"
    }
   ],
   "source": [
    "if(text_value != \"\"):\n",
    "    display(Math(\"P(\"+latex(text_value.value)+\")=\"+latex(px.subs(x,text_value.value))))"
   ]
  },
  {
   "cell_type": "code",
   "execution_count": 9,
   "metadata": {},
   "outputs": [
    {
     "data": {
      "text/html": [
       "<h3>Grafica del polinomio:</h3>"
      ],
      "text/plain": [
       "<IPython.core.display.HTML object>"
      ]
     },
     "metadata": {},
     "output_type": "display_data"
    },
    {
     "data": {
      "text/latex": [
       "$$P(x)=0.854979451373449 \\cdot 2.71828182845904^{0.813814742723597 x}$$"
      ],
      "text/plain": [
       "<IPython.core.display.Math object>"
      ]
     },
     "metadata": {},
     "output_type": "display_data"
    },
    {
     "data": {
      "image/png": "[encoded data removed]",
      "text/plain": [
       "<Figure size 360x360 with 1 Axes>"
      ]
     },
     "metadata": {},
     "output_type": "display_data"
    }
   ],
   "source": [
    "if len(xi)==len(yi):\n",
    "    try:\n",
    "        px = px.subs(e,np.exp(1))\n",
    "        display(HTML(\"<h3>Grafica del polinomio:</h3>\"))\n",
    "        display(Math(\"P(x)=\"+latex(px)))\n",
    "        fig,ax = plt.subplots(figsize=(5,5))\n",
    "        f_l = lambdify(x,px)\n",
    "        xv = linspace(xi[0],xi[len(xi)-1],50)\n",
    "        ax.plot(xv, f_l(xv),color='blue');\n",
    "        ax.scatter(xi,yi,color='black', marker='o');\n",
    "        ax.plot(text_value.value,px.subs(x,text_value.value), color ='red',marker='o');\n",
    "    except:\n",
    "        display(HTML(\"<h2 style='color:red'>Algo ocurrio mal, porfavor verifica los datos introducidos</h2>\"))\n",
    "else:\n",
    "    display(HTML(\"<h3 style='color:red'>Error en los datos, porfavor verificar longuitud de los datos en x y.</h3>\"))"
   ]
  },
  {
   "cell_type": "code",
   "execution_count": null,
   "metadata": {},
   "outputs": [],
   "source": []
  }
 ],
 "metadata": {
  "kernelspec": {
   "display_name": "Python 3",
   "language": "python",
   "name": "python3"
  },
  "language_info": {
   "codemirror_mode": {
    "name": "ipython",
    "version": 3
   },
   "file_extension": ".py",
   "mimetype": "text/x-python",
   "name": "python",
   "nbconvert_exporter": "python",
   "pygments_lexer": "ipython3",
   "version": "3.6.5"
  }
 },
 "nbformat": 4,
 "nbformat_minor": 2
}

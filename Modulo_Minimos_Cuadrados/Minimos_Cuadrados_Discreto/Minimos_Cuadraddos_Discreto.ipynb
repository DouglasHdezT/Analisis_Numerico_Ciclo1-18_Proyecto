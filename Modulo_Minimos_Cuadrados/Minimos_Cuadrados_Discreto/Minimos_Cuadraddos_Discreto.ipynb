{
 "cells": [
  {
   "cell_type": "markdown",
   "metadata": {},
   "source": [
    "## Minimos cuadrados: Caso Discreto\n",
    "\n",
    " Existen una serie de ecuaciones y pasos para aplicar el metodo de minimos cuadrados en el cual solamente se recibe una serie de puntos.\n",
    "Variables (Se asume que las variables comienzan en cero):\n",
    " \n",
    " n: Numero de funciones-menos la unidad.\n",
    " \n",
    " m: Numero de nodos menos la unidad.\n",
    " \n",
    " \n",
    " $Q(x) = \\begin{bmatrix}Q_0(x) & Q_1(x) & Q_2(x) &\n",
    " Q_3(x) & ... & Q_n(x)\\end{bmatrix}_{\\ 1xn}$\n",
    " \n",
    " \n",
    " $$Q(x)^T = \\begin{bmatrix}Q_0(x) \\\\ Q_1(x) \\\\  ... \\\\ Q_n(x)\\end{bmatrix}_{\\ nx1}$$ \n",
    " \n",
    " \n",
    " $$c = \\begin{bmatrix}c_0(x) \\\\ c_1(x) \\\\  ... \\\\ c_n(x)\\end{bmatrix}_{\\ nx1}$$ \n",
    " \n",
    " \n",
    " \n",
    " $$A_{nxn} = \\sum_{i=0}^{m}Q(x_{i})^TQ(x_{i})$$\n",
    " \n",
    " \n",
    " $$b_{\\ nx1} = \\sum_{i=0}^{m}Q(x_{i})^Tf(x_{i})$$\n",
    " \n",
    " \n",
    " $$c = A^{-1}b$$\n",
    "    "
   ]
  },
  {
   "cell_type": "code",
   "execution_count": 1,
   "metadata": {},
   "outputs": [],
   "source": [
    "%matplotlib inline\n",
    "from ipywidgets import widgets \n",
    "from IPython.display import display, Math, Latex\n",
    "from IPython.core.display import display, HTML\n",
    "import matplotlib.pyplot as plt\n",
    "from sympy import *\n",
    "from numpy import * \n",
    "init_printing()"
   ]
  },
  {
   "cell_type": "code",
   "execution_count": 2,
   "metadata": {},
   "outputs": [
    {
     "name": "stdout",
     "output_type": "stream",
     "text": [
      "Ingrese el grado a utilizar:\n"
     ]
    },
    {
     "data": {
      "application/vnd.jupyter.widget-view+json": {
       "model_id": "74607a03abe64f4ea1faff8f34376049",
       "version_major": 2,
       "version_minor": 0
      },
      "text/plain": [
       "BoundedIntText(value=1, min=1)"
      ]
     },
     "metadata": {},
     "output_type": "display_data"
    },
    {
     "name": "stdout",
     "output_type": "stream",
     "text": [
      "Ingrese los valores en x:\n"
     ]
    },
    {
     "data": {
      "application/vnd.jupyter.widget-view+json": {
       "model_id": "d38d3293039144418cfa8b7e5598d54d",
       "version_major": 2,
       "version_minor": 0
      },
      "text/plain": [
       "Text(value='')"
      ]
     },
     "metadata": {},
     "output_type": "display_data"
    },
    {
     "name": "stdout",
     "output_type": "stream",
     "text": [
      "Ingrese los valores en y:\n"
     ]
    },
    {
     "data": {
      "application/vnd.jupyter.widget-view+json": {
       "model_id": "17f5c030e6c1450e9071b23e964249d5",
       "version_major": 2,
       "version_minor": 0
      },
      "text/plain": [
       "Text(value='')"
      ]
     },
     "metadata": {},
     "output_type": "display_data"
    }
   ],
   "source": [
    "print(\"Ingrese el grado a utilizar:\")\n",
    "grado_input = widgets.BoundedIntText(\n",
    "    value=0,\n",
    "    min=1,\n",
    "    disabled=False\n",
    ")\n",
    "\n",
    "display(grado_input)\n",
    "\n",
    "print(\"Ingrese los valores en x:\")\n",
    "text_x=widgets.Text();\n",
    "display(text_x)\n",
    "print(\"Ingrese los valores en y:\")\n",
    "text_y=widgets.Text()\n",
    "display(text_y)"
   ]
  },
  {
   "cell_type": "code",
   "execution_count": 8,
   "metadata": {},
   "outputs": [],
   "source": [
    "xi = text_x.value.split(\",\")\n",
    "xi = set(xi)\n",
    "yi= text_y.value.split(\",\")\n",
    "\n",
    "try:\n",
    "    xi = list(map(float, xi))\n",
    "    yi = list(map(float, yi))\n",
    "    xi = sorted(xi)\n",
    "except:\n",
    "    display(HTML(\"<h3 style='color:red'>Error en los datos, porfavor verificar que sean valores numericos.</h3>\"))"
   ]
  },
  {
   "cell_type": "code",
   "execution_count": 9,
   "metadata": {},
   "outputs": [
    {
     "data": {
      "text/html": [
       "<h3>Matriz de ecuaciones:</h3>"
      ],
      "text/plain": [
       "<IPython.core.display.HTML object>"
      ]
     },
     "metadata": {},
     "output_type": "display_data"
    },
    {
     "data": {
      "text/latex": [
       "$$\\left[\\begin{matrix}1 & x & x^{2} & x^{3} & x^{4}\\\\x & x^{2} & x^{3} & x^{4} & x^{5}\\\\x^{2} & x^{3} & x^{4} & x^{5} & x^{6}\\\\x^{3} & x^{4} & x^{5} & x^{6} & x^{7}\\\\x^{4} & x^{5} & x^{6} & x^{7} & x^{8}\\end{matrix}\\right]$$"
      ],
      "text/plain": [
       "⎡         2   3   4⎤\n",
       "⎢1   x   x   x   x ⎥\n",
       "⎢                  ⎥\n",
       "⎢     2   3   4   5⎥\n",
       "⎢x   x   x   x   x ⎥\n",
       "⎢                  ⎥\n",
       "⎢ 2   3   4   5   6⎥\n",
       "⎢x   x   x   x   x ⎥\n",
       "⎢                  ⎥\n",
       "⎢ 3   4   5   6   7⎥\n",
       "⎢x   x   x   x   x ⎥\n",
       "⎢                  ⎥\n",
       "⎢ 4   5   6   7   8⎥\n",
       "⎣x   x   x   x   x ⎦"
      ]
     },
     "metadata": {},
     "output_type": "display_data"
    },
    {
     "data": {
      "text/html": [
       "<h3>Matriz de coeficientes:</h3>"
      ],
      "text/plain": [
       "<IPython.core.display.HTML object>"
      ]
     },
     "metadata": {},
     "output_type": "display_data"
    },
    {
     "data": {
      "text/latex": [
       "$$\\left[\\begin{matrix}10.849999999999\\\\-14.2888888888901\\\\6.74375000000055\\\\-1.28194444444398\\\\0.08541666666666\\end{matrix}\\right]$$"
      ],
      "text/plain": [
       "⎡ 10.849999999999 ⎤\n",
       "⎢                 ⎥\n",
       "⎢-14.2888888888901⎥\n",
       "⎢                 ⎥\n",
       "⎢6.74375000000055 ⎥\n",
       "⎢                 ⎥\n",
       "⎢-1.28194444444398⎥\n",
       "⎢                 ⎥\n",
       "⎣0.08541666666666 ⎦"
      ]
     },
     "metadata": {},
     "output_type": "display_data"
    },
    {
     "data": {
      "text/html": [
       "<h3>Polinomio Interpolante</h3>"
      ],
      "text/plain": [
       "<IPython.core.display.HTML object>"
      ]
     },
     "metadata": {},
     "output_type": "display_data"
    },
    {
     "data": {
      "text/latex": [
       "$$P(x)=0.08541666666666 x^{4} - 1.28194444444398 x^{3} + 6.74375000000055 x^{2} - 14.2888888888901 x + 10.849999999999$$"
      ],
      "text/plain": [
       "<IPython.core.display.Math object>"
      ]
     },
     "metadata": {},
     "output_type": "display_data"
    }
   ],
   "source": [
    "if len(xi)==len(yi):\n",
    "    grado = grado_input.value\n",
    "    x = Symbol('x')\n",
    "    p = Function('p')(x)\n",
    "    rs = Function('rs')(x)\n",
    "    mf = Function('mf')(x)\n",
    "    mft = Function('mft')(x)\n",
    "\n",
    "    wizzard = [0]*(grado+1)\n",
    "    for i in range(0,grado+1):\n",
    "        wizzard[i]=x**i\n",
    "    mf = Matrix([wizzard])\n",
    "\n",
    "    mft=mf.T\n",
    "\n",
    "    rs=mft*mf\n",
    "    display(HTML(\"<h3>Matriz de ecuaciones:</h3>\"))\n",
    "    display(rs)\n",
    "\n",
    "    a = zeros(shape=(grado+1,grado+1))\n",
    "    for i in range(0,len(xi)):\n",
    "        a = a + rs.subs(x,xi[i])\n",
    "\n",
    "    b = zeros(shape=(grado+1,1))\n",
    "    for i in range(0,len(xi)):\n",
    "        b = b + mft.subs(x,xi[i])*yi[i]\n",
    "\n",
    "    display(HTML(\"<h3>Matriz de coeficientes:</h3>\"))\n",
    "    c = a.inv()*b\n",
    "\n",
    "    display(c)\n",
    "    p=0;\n",
    "    for i in range(0,len(c)):\n",
    "        p = p + c[i]*mf[i]\n",
    "    display(HTML(\"<h3>Polinomio Interpolante</h3>\"))\n",
    "    display(Math(\"P(x)=\"+latex(p)))\n",
    "else:\n",
    "    display(HTML(\"<h3 style='color:red'>Error en los datos, porfavor verificar logitud de datos x y</h3>\"))"
   ]
  },
  {
   "cell_type": "code",
   "execution_count": 11,
   "metadata": {},
   "outputs": [
    {
     "name": "stdout",
     "output_type": "stream",
     "text": [
      "Evaluar polinomio en un punto\n"
     ]
    },
    {
     "data": {
      "application/vnd.jupyter.widget-view+json": {
       "model_id": "f0c786092bcf4f34831523260ffa7895",
       "version_major": 2,
       "version_minor": 0
      },
      "text/plain": [
       "BoundedFloatText(value=0.0, description='x:', step=0.1)"
      ]
     },
     "metadata": {},
     "output_type": "display_data"
    }
   ],
   "source": [
    "print(\"Evaluar polinomio en un punto\")\n",
    "text_value = widgets.BoundedFloatText(\n",
    "    value=0.0,\n",
    "    step=0.1,\n",
    "    description='x:',\n",
    "    disabled=False\n",
    ")\n",
    "display(text_value)"
   ]
  },
  {
   "cell_type": "code",
   "execution_count": 16,
   "metadata": {},
   "outputs": [
    {
     "data": {
      "text/latex": [
       "$$P(2.007)=0.358639908078256$$"
      ],
      "text/plain": [
       "<IPython.core.display.Math object>"
      ]
     },
     "metadata": {},
     "output_type": "display_data"
    }
   ],
   "source": [
    "if(text_value != \"\"):\n",
    "    display(Math(\"P(\"+latex(text_value.value)+\")=\"+latex(p.subs(x,text_value.value))))"
   ]
  },
  {
   "cell_type": "code",
   "execution_count": 17,
   "metadata": {},
   "outputs": [
    {
     "data": {
      "text/html": [
       "<h3>Grafica del polinomio:</h3>"
      ],
      "text/plain": [
       "<IPython.core.display.HTML object>"
      ]
     },
     "metadata": {},
     "output_type": "display_data"
    },
    {
     "data": {
      "text/latex": [
       "$$P(x)=0.08541666666666 x^{4} - 1.28194444444398 x^{3} + 6.74375000000055 x^{2} - 14.2888888888901 x + 10.849999999999$$"
      ],
      "text/plain": [
       "<IPython.core.display.Math object>"
      ]
     },
     "metadata": {},
     "output_type": "display_data"
    },
    {
     "data": {
      "image/png": "[encoded data removed]",
      "text/plain": [
       "<Figure size 360x360 with 1 Axes>"
      ]
     },
     "metadata": {},
     "output_type": "display_data"
    }
   ],
   "source": [
    "try:\n",
    "    display(HTML(\"<h3>Grafica del polinomio:</h3>\"))\n",
    "    display(Math(\"P(x)=\"+latex(p)))\n",
    "    fig,ax = plt.subplots(figsize=(5,5))\n",
    "    f_l = lambdify(x,p)\n",
    "    xv = linspace(xi[0],xi[len(xi)-1],50)\n",
    "    ax.plot(xv, f_l(xv),color='blue');\n",
    "    ax.scatter(xi,yi,color='black', marker='o');\n",
    "    ax.plot(text_value.value,p.subs(x,text_value.value), color ='red',marker='o');\n",
    "except:\n",
    "    display(HTML(\"<h2 style='color:red'>Algo ocurrio mal, porfavor verifica los datos introducidos</h2>\"))\n"
   ]
  }
 ],
 "metadata": {
  "kernelspec": {
   "display_name": "Python 3",
   "language": "python",
   "name": "python3"
  },
  "language_info": {
   "codemirror_mode": {
    "name": "ipython",
    "version": 3
   },
   "file_extension": ".py",
   "mimetype": "text/x-python",
   "name": "python",
   "nbconvert_exporter": "python",
   "pygments_lexer": "ipython3",
   "version": "3.6.5"
  }
 },
 "nbformat": 4,
 "nbformat_minor": 2
}

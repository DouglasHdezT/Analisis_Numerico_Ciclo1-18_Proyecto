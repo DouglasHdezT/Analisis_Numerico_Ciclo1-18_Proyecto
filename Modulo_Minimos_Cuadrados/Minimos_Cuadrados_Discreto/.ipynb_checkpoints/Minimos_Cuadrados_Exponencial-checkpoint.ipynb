{
 "cells": [
  {
   "cell_type": "markdown",
   "metadata": {},
   "source": [
    "# # Minimos cuadrados: Caso Exponencial.\n",
    "\n",
    " El caso exponencial de minimos cuadrados sigue el mismo estandar de ecuaciones que el caso discreto, sin embargo al caso exponencial se le aplica un logaritmo natural a la nube de puntos en \"Y\".\n",
    " \n",
    " Ecuaciones:\n",
    " \n",
    " n: Numero de funciones-menos la unidad.\n",
    " \n",
    " m: Numero de nodos menos la unidad.\n",
    " \n",
    " $$y = ce^{kx}$$\n",
    " \n",
    " \n",
    " $$ln(c) = ln(ce^{kx})$$\n",
    " \n",
    " \n",
    " $$ln(y) = ln(c)+kx, \\ c_0 = ln(y), \\ c_1 = k$$\n",
    " \n",
    " $$ln(y) = c_0 + c_1x$$\n",
    " \n",
    " \n",
    " $$A = \\sum_{i=0}^{m}\\begin{bmatrix}1 & x_i \\\\ x_1 & x_i^{2} \\end{bmatrix}$$\n",
    " \n",
    "  $$b_{\\ nx1} = \\sum_{i=0}^{m}\\begin{bmatrix}1 \\\\ x_1 \\end{bmatrix}ln(f(x_i)))$$\n",
    "\n",
    " \n",
    " $$y = ce^{k}$$\n",
    " \n",
    " \n",
    " $$c = e^{c_0}$$\n",
    " \n",
    " \n",
    " $$k = c_1$$\n",
    " \n",
    " \n",
    " $$y = e^{c_0}e^{c_1x}$$"
   ]
  },
  {
   "cell_type": "code",
   "execution_count": null,
   "metadata": {},
   "outputs": [],
   "source": [
    "from ipywidgets import widgets \n",
    "from IPython.display import display, Math, Latex\n",
    "from IPython.core.display import display, HTML\n",
    "from sympy import *\n",
    "from numpy import * \n",
    "import numpy as np\n",
    "import sympy as sp\n",
    "import matplotlib.pyplot as plt\n",
    "\n",
    "init_printing()"
   ]
  },
  {
   "cell_type": "code",
   "execution_count": null,
   "metadata": {},
   "outputs": [],
   "source": [
    "print(\"Ingrese los valores en x:\")\n",
    "text_x=widgets.Text();\n",
    "display(text_x)\n",
    "print(\"Ingrese los valores en y:\")\n",
    "text_y=widgets.Text()\n",
    "display(text_y)\n"
   ]
  },
  {
   "cell_type": "code",
   "execution_count": null,
   "metadata": {},
   "outputs": [],
   "source": [
    "xi = text_x.value.split(\",\")\n",
    "xi = set(xi)\n",
    "yi= text_y.value.split(\",\")\n",
    "if len(xi)==len(yi):\n",
    "    try:\n",
    "        xi = list(map(float, xi))\n",
    "        yi = list(map(float, yi))\n",
    "        xi = sorted(xi)\n",
    "    except:\n",
    "        display(HTML(\"<h3 style='color:red'>Error en los datos, porfavor verificar que sean valores numericos.</h3>\"))\n",
    "else:\n",
    "    display(HTML(\"<h3 style='color:red'>Error en los datos, porfavor verificar logitud de valores.</h3>\"))"
   ]
  },
  {
   "cell_type": "code",
   "execution_count": null,
   "metadata": {},
   "outputs": [],
   "source": [
    "x = Symbol('x')\n",
    "e = Symbol('e')\n",
    "rs = Function('rs')(x)\n",
    "mf = Function('mf')(x)\n",
    "mft = Function('mft')(x)\n",
    "px = Function('px')(x)\n",
    "\n",
    "wizzard = [0]*(2)\n",
    "for i in range(0,2):\n",
    "    wizzard[i]=x**i\n",
    "mf = Matrix([wizzard])\n",
    "\n",
    "#print(mf)\n",
    "\n",
    "mft=mf.T\n",
    "#display(mft)\n",
    "\n",
    "#print(mft)\n",
    "rs=mft*mf\n",
    "display(HTML(\"<h3>Matriz de ecuaciones:</h3>\"))\n",
    "display(rs)\n",
    "\n",
    "a = zeros(shape=(2,2))\n",
    "for i in range(0,len(xi)):\n",
    "    a = a + rs.subs(x,xi[i])\n",
    "#display(a)\n",
    "\n",
    "b = zeros(shape=(2,1))\n",
    "for i in range(0,len(xi)):\n",
    "    b = b + mft.subs(x,xi[i])*ln(yi[i])\n",
    "#display(b)\n",
    "c = (a.inv()*b)\n",
    "display(HTML(\"<h3>Matriz de coeficientes a los cuales se les aplica Ln:</h3>\"))\n",
    "display(c)\n",
    "\n",
    "\n",
    "final = [0]*(2)\n",
    "px=0\n",
    "for i in range(0,1):\n",
    "    final[i]= np.float(c[i])\n",
    "    final[i] = np.exp(final[i])*(e**(c[i-1]*x))\n",
    "\n",
    "    px = px+final[i]\n",
    "    \n",
    "display(HTML(\"<h3>Polinomio Interpolante</h3>\"))\n",
    "display(Math(\"P(x)=\"+latex(px)))"
   ]
  },
  {
   "cell_type": "code",
   "execution_count": null,
   "metadata": {},
   "outputs": [],
   "source": [
    "print(\"Evaluar polinomio en un punto\")\n",
    "text_value = widgets.BoundedFloatText(\n",
    "    value=0.0,\n",
    "    step=0.1,\n",
    "    description='x:',\n",
    "    disabled=False\n",
    ")\n",
    "display(text_value)"
   ]
  },
  {
   "cell_type": "code",
   "execution_count": null,
   "metadata": {},
   "outputs": [],
   "source": [
    "if(text_value != \"\"):\n",
    "    display(Math(\"P(\"+latex(text_value.value)+\")=\"+latex(px.subs(x,text_value.value))))"
   ]
  },
  {
   "cell_type": "code",
   "execution_count": null,
   "metadata": {},
   "outputs": [],
   "source": [
    "if len(xi)==len(yi):\n",
    "    try:\n",
    "        px = px.subs(e,np.exp(1))\n",
    "        display(HTML(\"<h3>Grafica del polinomio:</h3>\"))\n",
    "        display(Math(\"P(x)=\"+latex(px)))\n",
    "        fig,ax = plt.subplots(figsize=(5,5))\n",
    "        f_l = lambdify(x,px)\n",
    "        xv = linspace(xi[0],xi[len(xi)-1],50)\n",
    "        ax.plot(xv, f_l(xv),color='blue');\n",
    "        ax.scatter(xi,yi,color='black', marker='o');\n",
    "        ax.plot(text_value.value,px.subs(x,text_value.value), color ='red',marker='o');\n",
    "    except:\n",
    "        display(HTML(\"<h2 style='color:red'>Algo ocurrio mal, porfavor verifica los datos introducidos</h2>\"))\n",
    "else:\n",
    "    display(HTML(\"<h3 style='color:red'>Error en los datos, porfavor verificar longuitud de los datos en x y.</h3>\"))"
   ]
  },
  {
   "cell_type": "code",
   "execution_count": null,
   "metadata": {},
   "outputs": [],
   "source": []
  }
 ],
 "metadata": {
  "kernelspec": {
   "display_name": "Python 3",
   "language": "python",
   "name": "python3"
  },
  "language_info": {
   "codemirror_mode": {
    "name": "ipython",
    "version": 3
   },
   "file_extension": ".py",
   "mimetype": "text/x-python",
   "name": "python",
   "nbconvert_exporter": "python",
   "pygments_lexer": "ipython3",
   "version": "3.6.5"
  }
 },
 "nbformat": 4,
 "nbformat_minor": 2
}

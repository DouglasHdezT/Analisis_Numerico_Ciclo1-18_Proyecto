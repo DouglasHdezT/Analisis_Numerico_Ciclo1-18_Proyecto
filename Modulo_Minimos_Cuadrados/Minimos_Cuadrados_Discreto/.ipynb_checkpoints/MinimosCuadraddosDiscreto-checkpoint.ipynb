{
 "cells": [
  {
   "cell_type": "markdown",
   "metadata": {},
   "source": [
    "## Minimos cuadrados: Caso Discreto\n",
    "\n",
    " Existen una serie de ecuaciones y pasos para aplicar el metodo de minimos cuadrados en el cual solamente se recibe una serie de puntos.\n",
    "Variables (Se asume que las variables comienzan en cero):\n",
    " \n",
    " n: Numero de funciones-menos la unidad.\n",
    " \n",
    " m: Numero de nodos menos la unidad.\n",
    " \n",
    " \n",
    " $Q(x) = \\begin{bmatrix}Q_0(x) & Q_1(x) & Q_2(x) &\n",
    " Q_3(x) & ... & Q_n(x)\\end{bmatrix}_{\\ 1xn}$\n",
    " \n",
    " \n",
    " $$Q(x)^T = \\begin{bmatrix}Q_0(x) \\\\ Q_1(x) \\\\  ... \\\\ Q_n(x)\\end{bmatrix}_{\\ nx1}$$ \n",
    " \n",
    " \n",
    " $$c = \\begin{bmatrix}c_0(x) \\\\ c_1(x) \\\\  ... \\\\ c_n(x)\\end{bmatrix}_{\\ nx1}$$ \n",
    " \n",
    " \n",
    " \n",
    " $$A_{nxn} = \\sum_{i=0}^{m}Q(x_{i})^TQ(x_{i})$$\n",
    " \n",
    " \n",
    " $$b_{\\ nx1} = \\sum_{i=0}^{m}Q(x_{i})^Tf(x_{i})$$\n",
    " \n",
    " \n",
    " $$c = A^{-1}b$$\n",
    "    "
   ]
  },
  {
   "cell_type": "code",
   "execution_count": 2,
   "metadata": {},
   "outputs": [],
   "source": [
    "%matplotlib inline\n",
    "from ipywidgets import widgets \n",
    "from IPython.display import display, Math, Latex\n",
    "from IPython.core.display import display, HTML\n",
    "import matplotlib.pyplot as plt\n",
    "from sympy import *\n",
    "from numpy import * \n",
    "init_printing()"
   ]
  },
  {
   "cell_type": "code",
   "execution_count": 3,
   "metadata": {},
   "outputs": [
    {
     "name": "stdout",
     "output_type": "stream",
     "text": [
      "Ingrese el grado a utilizar:\n"
     ]
    },
    {
     "data": {
      "application/vnd.jupyter.widget-view+json": {
       "model_id": "103c48c2cf6b44b09a08c7774a552334",
       "version_major": 2,
       "version_minor": 0
      },
      "text/plain": [
       "BoundedIntText(value=1, min=1)"
      ]
     },
     "metadata": {},
     "output_type": "display_data"
    },
    {
     "name": "stdout",
     "output_type": "stream",
     "text": [
      "Ingrese los valores en x:\n"
     ]
    },
    {
     "data": {
      "application/vnd.jupyter.widget-view+json": {
       "model_id": "d33f1e7f76c6485ba2658ad777011dd7",
       "version_major": 2,
       "version_minor": 0
      },
      "text/plain": [
       "Text(value='')"
      ]
     },
     "metadata": {},
     "output_type": "display_data"
    },
    {
     "name": "stdout",
     "output_type": "stream",
     "text": [
      "Ingrese los valores en y:\n"
     ]
    },
    {
     "data": {
      "application/vnd.jupyter.widget-view+json": {
       "model_id": "94ee0c52c9e84835a8d67c4e44406b69",
       "version_major": 2,
       "version_minor": 0
      },
      "text/plain": [
       "Text(value='')"
      ]
     },
     "metadata": {},
     "output_type": "display_data"
    }
   ],
   "source": [
    "print(\"Ingrese el grado a utilizar:\")\n",
    "grado_input = widgets.BoundedIntText(\n",
    "    value=0,\n",
    "    min=1,\n",
    "    disabled=False\n",
    ")\n",
    "\n",
    "display(grado_input)\n",
    "\n",
    "print(\"Ingrese los valores en x:\")\n",
    "text_x=widgets.Text();\n",
    "display(text_x)\n",
    "print(\"Ingrese los valores en y:\")\n",
    "text_y=widgets.Text()\n",
    "display(text_y)"
   ]
  },
  {
   "cell_type": "code",
   "execution_count": 11,
   "metadata": {},
   "outputs": [],
   "source": [
    "xi = text_x.value.split(\",\")\n",
    "xi = set(xi)\n",
    "yi= text_y.value.split(\",\")\n",
    "\n",
    "try:\n",
    "    xi = list(map(float, xi))\n",
    "    yi = list(map(float, yi))\n",
    "    xi = sorted(xi)\n",
    "except:\n",
    "    display(HTML(\"<h3 style='color:red'>Error en los datos, porfavor verificar que sean valores numericos.</h3>\"))"
   ]
  },
  {
   "cell_type": "code",
   "execution_count": 12,
   "metadata": {},
   "outputs": [
    {
     "data": {
      "text/html": [
       "<h3>Matriz de ecuaciones:</h3>"
      ],
      "text/plain": [
       "<IPython.core.display.HTML object>"
      ]
     },
     "metadata": {},
     "output_type": "display_data"
    },
    {
     "data": {
      "text/latex": [
       "$$\\left[\\begin{matrix}1 & x & x^{2}\\\\x & x^{2} & x^{3}\\\\x^{2} & x^{3} & x^{4}\\end{matrix}\\right]$$"
      ],
      "text/plain": [
       "⎡         2⎤\n",
       "⎢1   x   x ⎥\n",
       "⎢          ⎥\n",
       "⎢     2   3⎥\n",
       "⎢x   x   x ⎥\n",
       "⎢          ⎥\n",
       "⎢ 2   3   4⎥\n",
       "⎣x   x   x ⎦"
      ]
     },
     "metadata": {},
     "output_type": "display_data"
    },
    {
     "data": {
      "text/html": [
       "<h3>Matriz de coeficientes:</h3>"
      ],
      "text/plain": [
       "<IPython.core.display.HTML object>"
      ]
     },
     "metadata": {},
     "output_type": "display_data"
    },
    {
     "data": {
      "text/latex": [
       "$$\\left[\\begin{matrix}0\\\\0\\\\1.00000000000001\\end{matrix}\\right]$$"
      ],
      "text/plain": [
       "⎡       0        ⎤\n",
       "⎢                ⎥\n",
       "⎢       0        ⎥\n",
       "⎢                ⎥\n",
       "⎣1.00000000000001⎦"
      ]
     },
     "metadata": {},
     "output_type": "display_data"
    },
    {
     "data": {
      "text/html": [
       "<h3>Polinomio Interpolante</h3>"
      ],
      "text/plain": [
       "<IPython.core.display.HTML object>"
      ]
     },
     "metadata": {},
     "output_type": "display_data"
    },
    {
     "data": {
      "text/latex": [
       "$$P(x)=1.00000000000001 x^{2}$$"
      ],
      "text/plain": [
       "<IPython.core.display.Math object>"
      ]
     },
     "metadata": {},
     "output_type": "display_data"
    }
   ],
   "source": [
    "grado = grado_input.value\n",
    "x = Symbol('x')\n",
    "p = Function('p')(x)\n",
    "rs = Function('rs')(x)\n",
    "mf = Function('mf')(x)\n",
    "mft = Function('mft')(x)\n",
    "\n",
    "wizzard = [0]*(grado+1)\n",
    "for i in range(0,grado+1):\n",
    "    wizzard[i]=x**i\n",
    "mf = Matrix([wizzard])\n",
    "\n",
    "mft=mf.T\n",
    "\n",
    "rs=mft*mf\n",
    "display(HTML(\"<h3>Matriz de ecuaciones:</h3>\"))\n",
    "display(rs)\n",
    "\n",
    "a = zeros(shape=(grado+1,grado+1))\n",
    "for i in range(0,len(xi)):\n",
    "    a = a + rs.subs(x,xi[i])\n",
    "\n",
    "b = zeros(shape=(grado+1,1))\n",
    "for i in range(0,len(xi)):\n",
    "    b = b + mft.subs(x,xi[i])*yi[i]\n",
    "    \n",
    "display(HTML(\"<h3>Matriz de coeficientes:</h3>\"))\n",
    "c = a.inv()*b\n",
    "\n",
    "display(c)\n",
    "p=0;\n",
    "for i in range(0,len(c)):\n",
    "    p = p + c[i]*mf[i]\n",
    "display(HTML(\"<h3>Polinomio Interpolante</h3>\"))\n",
    "display(Math(\"P(x)=\"+latex(p)))"
   ]
  },
  {
   "cell_type": "code",
   "execution_count": 13,
   "metadata": {},
   "outputs": [
    {
     "data": {
      "text/html": [
       "<h3>Grafica del polinomio:</h3>"
      ],
      "text/plain": [
       "<IPython.core.display.HTML object>"
      ]
     },
     "metadata": {},
     "output_type": "display_data"
    },
    {
     "data": {
      "text/latex": [
       "$$P(x)=1.00000000000001 x^{2}$$"
      ],
      "text/plain": [
       "<IPython.core.display.Math object>"
      ]
     },
     "metadata": {},
     "output_type": "display_data"
    },
    {
     "data": {
      "image/png": "[encoded data removed]",
      "text/plain": [
       "<Figure size 360x360 with 1 Axes>"
      ]
     },
     "metadata": {},
     "output_type": "display_data"
    }
   ],
   "source": [
    "try:\n",
    "    display(HTML(\"<h3>Grafica del polinomio:</h3>\"))\n",
    "    display(Math(\"P(x)=\"+latex(p)))\n",
    "    fig,ax = plt.subplots(figsize=(5,5))\n",
    "    f_l = lambdify(x,p)\n",
    "    xv = linspace(xi[0],xi[len(xi)-1],50)\n",
    "    ax.plot(xv, f_l(xv),color='blue');\n",
    "    ax.scatter(xi,yi,color='black', marker='o');\n",
    "except:\n",
    "    display(HTML(\"<h2 style='color:red'>Algo ocurrio mal, porfavor verifica los datos introducidos</h2>\"))\n"
   ]
  },
  {
   "cell_type": "code",
   "execution_count": null,
   "metadata": {},
   "outputs": [],
   "source": []
  },
  {
   "cell_type": "code",
   "execution_count": null,
   "metadata": {},
   "outputs": [],
   "source": []
  }
 ],
 "metadata": {
  "kernelspec": {
   "display_name": "Python 3",
   "language": "python",
   "name": "python3"
  },
  "language_info": {
   "codemirror_mode": {
    "name": "ipython",
    "version": 3
   },
   "file_extension": ".py",
   "mimetype": "text/x-python",
   "name": "python",
   "nbconvert_exporter": "python",
   "pygments_lexer": "ipython3",
   "version": "3.6.5"
  }
 },
 "nbformat": 4,
 "nbformat_minor": 2
}

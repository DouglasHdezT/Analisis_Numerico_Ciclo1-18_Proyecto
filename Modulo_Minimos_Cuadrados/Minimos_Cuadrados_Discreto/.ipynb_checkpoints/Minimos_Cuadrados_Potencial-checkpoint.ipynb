{
 "cells": [
  {
   "cell_type": "markdown",
   "metadata": {},
   "source": [
    "# # Minimos Cuadrados: Caso Potencial.\n",
    "\n",
    " El caso potencial de minimos cuadrados sigue los mismos estandares de ecuaciones que el caso descreto, sin embargo, al caso potencial se le aplica logaritmo natural tanto a la nuve de puntos en \"Y\" como a las matrices en \"X\".\n",
    " \n",
    " Ecuaciones:\n",
    " \n",
    " n: Numero de funciones-menos la unidad.\n",
    " \n",
    " m: Numero de nodos menos la unidad.\n",
    " \n",
    " \n",
    " $$y = cx^{k}$$\n",
    " \n",
    " \n",
    " $$ln(y) = ln(cx^{k})$$\n",
    " \n",
    " \n",
    " $$ln(y) = ln(c)+k \\ ln(x), \\ c_0 = ln(c), \\ c_1 = k$$\n",
    " \n",
    " \n",
    " $$ln(y) = c_0 + c_1ln(x)$$\n",
    " \n",
    " \n",
    " $$A = \\sum_{i=0}^{m}ln(\\begin{bmatrix}1 & x_i \\\\ x_1 & x_i^{2} \\end{bmatrix})$$\n",
    " \n",
    " \n",
    " $$b_{\\ nx1} = \\sum_{i=0}^{m}ln(\\begin{bmatrix}1 \\\\ x_1 \\end{bmatrix})ln(f(x_i))$$\n",
    " \n",
    " \n",
    " $$y = cx^{k}$$\n",
    " \n",
    " \n",
    " $$c = e^{c_0}$$\n",
    " \n",
    " \n",
    " $$k = c_1$$\n",
    " \n",
    " \n",
    " $$y = e^{c_0}x^{c_1}$$"
   ]
  },
  {
   "cell_type": "code",
   "execution_count": null,
   "metadata": {},
   "outputs": [],
   "source": [
    "from ipywidgets import widgets \n",
    "from IPython.display import display, Math, Latex\n",
    "from IPython.core.display import display, HTML\n",
    "from sympy import *\n",
    "from numpy import * \n",
    "import matplotlib.pyplot as plt\n",
    "\n",
    "init_printing()\n",
    "     \n",
    "import numpy as np\n",
    "import sympy as sp\n",
    "\n",
    "init_printing()"
   ]
  },
  {
   "cell_type": "code",
   "execution_count": null,
   "metadata": {},
   "outputs": [],
   "source": [
    "print(\"Ingrese los valores en x:\")\n",
    "text_x=widgets.Text();\n",
    "display(text_x)\n",
    "print(\"Ingrese los valores en y:\")\n",
    "text_y=widgets.Text()\n",
    "display(text_y)"
   ]
  },
  {
   "cell_type": "code",
   "execution_count": null,
   "metadata": {},
   "outputs": [],
   "source": [
    "xi = text_x.value.split(\",\")\n",
    "xi = set(xi)\n",
    "yi= text_y.value.split(\",\")\n",
    "if len(xi)==len(yi):\n",
    "    try:\n",
    "        xi = list(map(float, xi))\n",
    "        yi = list(map(float, yi))\n",
    "        xi = sorted(xi)\n",
    "    except:\n",
    "        display(HTML(\"<h3 style='color:red'>Error en los datos, porfavor verificar que sean valores numericos.</h3>\"))\n",
    "else:\n",
    "    display(HTML(\"<h3 style='color:red'>Error en los datos, porfavor verificar logitud de valores.</h3>\"))"
   ]
  },
  {
   "cell_type": "code",
   "execution_count": null,
   "metadata": {},
   "outputs": [],
   "source": [
    "if len(xi)==len(yi):\n",
    "    x = Symbol('x')\n",
    "    e = Symbol('e')\n",
    "    rs = Function('rs')(x)\n",
    "    mf = Function('mf')(x)\n",
    "    mft = Function('mft')(x)\n",
    "    px = Function('px')(x)\n",
    "    wizzard = [0]*(2)\n",
    "    for i in range(0,2):\n",
    "        wizzard[i]=x**i\n",
    "    mf = Matrix([wizzard])\n",
    "\n",
    "    mft=mf.T\n",
    "\n",
    "    #print(mft)\n",
    "    rs=mft*mf\n",
    "    display(HTML(\"<h3>Matris de funciones base: </h3>\"))\n",
    "    display(rs)\n",
    "\n",
    "    a = zeros(shape=(2,2))\n",
    "    for i in range(0,len(xi)):\n",
    "        a = a + rs.subs(x,np.float(ln(xi[i])))\n",
    "\n",
    "    b = zeros(shape=(2,1))\n",
    "    for i in range(0,len(xi)):\n",
    "        b = b + mft.subs(x,np.float(ln(xi[i])))*np.float(ln(yi[i]))\n",
    "        \n",
    "    display(HTML(\"<h3>Matris de coeficientes: </h3>\"))\n",
    "    c = (a.inv()*b)\n",
    "    display(c)\n",
    "\n",
    "\n",
    "    final = [0]*(2)\n",
    "    px=0\n",
    "    for i in range(0,1):\n",
    "        final[i]= np.float(c[i])\n",
    "        final[i] = np.exp(final[i])*(x**(np.float(c[i-1])))\n",
    "\n",
    "        px = px+final[i]\n",
    "    display(HTML(\"<h3>Función Potencial:</h3>\"))\n",
    "    display(Math(\"P(x)=\"+latex(px)))\n",
    "else:\n",
    "    display(HTML(\"<h3 style='color:red'>Error en los datos, porfavor verificar longuitud de los datos en x y.</h3>\"))"
   ]
  },
  {
   "cell_type": "code",
   "execution_count": null,
   "metadata": {},
   "outputs": [],
   "source": [
    "print(\"Evaluar polinomio en un punto\")\n",
    "text_value = widgets.BoundedFloatText(\n",
    "    value=0.0,\n",
    "    step=0.1,\n",
    "    description='x:',\n",
    "    disabled=False\n",
    ")\n",
    "display(text_value)"
   ]
  },
  {
   "cell_type": "code",
   "execution_count": null,
   "metadata": {},
   "outputs": [],
   "source": [
    "if(text_value != \"\"):\n",
    "    display(Math(\"P(\"+latex(text_value.value)+\")=\"+latex(px.subs(x,text_value.value))))"
   ]
  },
  {
   "cell_type": "code",
   "execution_count": null,
   "metadata": {},
   "outputs": [],
   "source": [
    "if len(xi)==len(yi):\n",
    "    try:\n",
    "        display(HTML(\"<h3>Grafica del polinomio:</h3>\"))\n",
    "        display(Math(\"P(x)=\"+latex(px)))\n",
    "        fig,ax = plt.subplots(figsize=(5,5))\n",
    "        f_l = lambdify(x,px)\n",
    "        xv = linspace(xi[0],xi[len(xi)-1],50)\n",
    "        ax.plot(xv, f_l(xv),color='blue');\n",
    "        ax.scatter(xi,yi,color='black', marker='o');\n",
    "        ax.plot(text_value.value,px.subs(x,text_value.value), color ='red',marker='o');\n",
    "\n",
    "    except:\n",
    "        display(HTML(\"<h2 style='color:red'>Algo ocurrio mal, porfavor verifica los datos introducidos</h2>\"))\n",
    "else:\n",
    "    display(HTML(\"<h3 style='color:red'>Error en los datos, porfavor verificar longuitud de los datos en x y.</h3>\"))"
   ]
  },
  {
   "cell_type": "code",
   "execution_count": null,
   "metadata": {},
   "outputs": [],
   "source": []
  }
 ],
 "metadata": {
  "kernelspec": {
   "display_name": "Python 3",
   "language": "python",
   "name": "python3"
  },
  "language_info": {
   "codemirror_mode": {
    "name": "ipython",
    "version": 3
   },
   "file_extension": ".py",
   "mimetype": "text/x-python",
   "name": "python",
   "nbconvert_exporter": "python",
   "pygments_lexer": "ipython3",
   "version": "3.6.5"
  }
 },
 "nbformat": 4,
 "nbformat_minor": 2
}

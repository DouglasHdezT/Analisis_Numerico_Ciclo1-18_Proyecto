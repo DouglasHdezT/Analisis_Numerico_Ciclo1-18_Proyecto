{
 "cells": [
  {
   "cell_type": "code",
   "execution_count": 1,
   "metadata": {},
   "outputs": [],
   "source": [
    "%matplotlib inline\n",
    "from ipywidgets import widgets \n",
    "from IPython.display import display, Math, Latex\n",
    "from IPython.core.display import display, HTML\n",
    "import matplotlib.pyplot as plt\n",
    "from sympy import *\n",
    "from numpy import * \n",
    "from numpy.linalg import inv\n",
    "init_printing()\n",
    "\n",
    "x = Symbol('x');\n",
    "fx = Function('fx')(x);\n",
    "gx = Function('gx')(x)\n",
    "p = Function('p')(x)\n",
    "rs = Function('rs')(x)\n",
    "mf = Function('mf')(x)\n",
    "mft = Function('mft')(x)"
   ]
  },
  {
   "cell_type": "code",
   "execution_count": 2,
   "metadata": {},
   "outputs": [
    {
     "name": "stdout",
     "output_type": "stream",
     "text": [
      "Ingrese el grado a utilizar:\n"
     ]
    },
    {
     "data": {
      "application/vnd.jupyter.widget-view+json": {
       "model_id": "abc1706f65414412b374aa2f3923eb2e",
       "version_major": 2,
       "version_minor": 0
      },
      "text/plain": [
       "BoundedIntText(value=1, max=4, min=1)"
      ]
     },
     "metadata": {},
     "output_type": "display_data"
    },
    {
     "name": "stdout",
     "output_type": "stream",
     "text": [
      "Ingresar funcion f(x)=\n"
     ]
    },
    {
     "data": {
      "application/vnd.jupyter.widget-view+json": {
       "model_id": "214bf49ec9574e0f8fb06bfc0b47583d",
       "version_major": 2,
       "version_minor": 0
      },
      "text/plain": [
       "Text(value='', placeholder='Función f(x)')"
      ]
     },
     "metadata": {},
     "output_type": "display_data"
    },
    {
     "name": "stdout",
     "output_type": "stream",
     "text": [
      "Ingresar limite inferior\n"
     ]
    },
    {
     "data": {
      "application/vnd.jupyter.widget-view+json": {
       "model_id": "911e82b6501f4c6485c9721ac87a758a",
       "version_major": 2,
       "version_minor": 0
      },
      "text/plain": [
       "BoundedFloatText(value=0.0, step=0.1)"
      ]
     },
     "metadata": {},
     "output_type": "display_data"
    },
    {
     "name": "stdout",
     "output_type": "stream",
     "text": [
      "Ingresar limite superior\n"
     ]
    },
    {
     "data": {
      "application/vnd.jupyter.widget-view+json": {
       "model_id": "71b23785aad44bf78b0eb3641901279a",
       "version_major": 2,
       "version_minor": 0
      },
      "text/plain": [
       "BoundedFloatText(value=1.0, step=0.1)"
      ]
     },
     "metadata": {},
     "output_type": "display_data"
    }
   ],
   "source": [
    "print(\"Ingrese el grado a utilizar:\")\n",
    "grado_input = widgets.BoundedIntText(\n",
    "    value=0,\n",
    "    min=1,\n",
    "    max=4,\n",
    "    disabled=False\n",
    ")\n",
    "\n",
    "display(grado_input)\n",
    "\n",
    "print(\"Ingresar funcion f(x)=\")\n",
    "text_fx=widgets.Text(\n",
    "    placeholder=\"Función f(x)\"\n",
    ");\n",
    "display(text_fx)\n",
    "print(\"Ingresar limite inferior\")\n",
    "text_li=widgets.BoundedFloatText(\n",
    "    value=0,\n",
    "    step=0.1,\n",
    "    disabled=False\n",
    ")\n",
    "display(text_li)\n",
    "print(\"Ingresar limite superior\")\n",
    "text_lf=widgets.BoundedFloatText(\n",
    "    value=1,\n",
    "    step=0.1,\n",
    "    disabled=False\n",
    ")\n",
    "display(text_lf)"
   ]
  },
  {
   "cell_type": "code",
   "execution_count": 4,
   "metadata": {},
   "outputs": [
    {
     "data": {
      "text/html": [
       "<h3>Matriz de ecuaciones:</h3>"
      ],
      "text/plain": [
       "<IPython.core.display.HTML object>"
      ]
     },
     "metadata": {},
     "output_type": "display_data"
    },
    {
     "data": {
      "text/latex": [
       "$$\\left[\\begin{matrix}1 & x & x^{2}\\\\x & x^{2} & x^{3}\\\\x^{2} & x^{3} & x^{4}\\end{matrix}\\right]$$"
      ],
      "text/plain": [
       "⎡         2⎤\n",
       "⎢1   x   x ⎥\n",
       "⎢          ⎥\n",
       "⎢     2   3⎥\n",
       "⎢x   x   x ⎥\n",
       "⎢          ⎥\n",
       "⎢ 2   3   4⎥\n",
       "⎣x   x   x ⎦"
      ]
     },
     "metadata": {},
     "output_type": "display_data"
    },
    {
     "data": {
      "text/html": [
       "<h3>Matriz de coeficientes:</h3>"
      ],
      "text/plain": [
       "<IPython.core.display.HTML object>"
      ]
     },
     "metadata": {},
     "output_type": "display_data"
    },
    {
     "data": {
      "text/latex": [
       "$$\\left[\\begin{matrix}0.0\\\\0.0\\\\1.0\\end{matrix}\\right]$$"
      ],
      "text/plain": [
       "⎡0.0⎤\n",
       "⎢   ⎥\n",
       "⎢0.0⎥\n",
       "⎢   ⎥\n",
       "⎣1.0⎦"
      ]
     },
     "metadata": {},
     "output_type": "display_data"
    },
    {
     "data": {
      "text/html": [
       "<h3>Funcion interpolante:</h3>"
      ],
      "text/plain": [
       "<IPython.core.display.HTML object>"
      ]
     },
     "metadata": {},
     "output_type": "display_data"
    },
    {
     "data": {
      "text/latex": [
       "$$P(x)=1.0 x^{2}$$"
      ],
      "text/plain": [
       "<IPython.core.display.Math object>"
      ]
     },
     "metadata": {},
     "output_type": "display_data"
    }
   ],
   "source": [
    "try:\n",
    "    grado = grado_input.value\n",
    "    fx = sympify(text_fx.value)\n",
    "    li = int(text_li.value)\n",
    "    ls = int(text_lf.value)\n",
    "except:\n",
    "    display(HTML(\"<h2 style='color:red'>Ups.. algo salio mal, revisar los datos ingresados</h2>\"))\n",
    "    \n",
    "wizzard = [0]*(grado+1)\n",
    "for i in range(0,grado+1):\n",
    "    wizzard[i]=x**i\n",
    "mf = Matrix([wizzard])\n",
    "\n",
    "mft=mf.T\n",
    "\n",
    "rs=mft*mf\n",
    "display(HTML(\"<h3>Matriz de ecuaciones:</h3>\"))\n",
    "display(rs)\n",
    "\n",
    "a = zeros(shape=(grado+1,grado+1));\n",
    "\n",
    "for t in range(0,grado+1):\n",
    "    for v in range(0,grado+1):\n",
    "        gx = rs[v,t]\n",
    "        nx = 5\n",
    "        h = (ls-li)/(2*nx)\n",
    "        \n",
    "        I = gx.subs(x,li)\n",
    "\n",
    "        #No es nx por la inclusion en funcion range()\n",
    "        for i in range(1,nx+1):\n",
    "            I = I + (4 * (gx.subs(x,li + (((2*i)-1)*h))))\n",
    "\n",
    "        #Idem que el caso anterior\n",
    "        for i in range(1,nx):\n",
    "            I = I + (2 * (gx.subs(x,li + ((2*i)*h))))\n",
    "\n",
    "        I = (h/3)*(I + gx.subs(x, ls))\n",
    "        \n",
    "        a[t,v]=I\n",
    "\n",
    "b = zeros(shape=((grado+1),1))\n",
    "for t in range(0,len(b)):\n",
    "    nx = 5\n",
    "    h = (ls-li)/(2*nx)\n",
    "    \n",
    "    gx = mft[t]*fx\n",
    "    I = gx.subs(x,li)\n",
    "\n",
    "    #No es nx por la inclusion en funcion range()\n",
    "    for i in range(1,nx+1):\n",
    "        I = I + (4 * (gx.subs(x,li + (((2*i)-1)*h))))\n",
    "\n",
    "    #Idem que el caso anterior\n",
    "    for i in range(1,nx):\n",
    "        I = I + (2 * (gx.subs(x,li + ((2*i)*h))))\n",
    "\n",
    "    I = (h/3)*(I + gx.subs(x, ls))\n",
    "    b[t] = I\n",
    "    \n",
    "c= inv(a)@b\n",
    "\n",
    "display(HTML(\"<h3>Matriz de coeficientes:</h3>\"))\n",
    "display(sympify(c))\n",
    "\n",
    "p=0\n",
    "for i in range(0,len(c)):\n",
    "    p = p + sympify(c[i])*mft[i]\n",
    "\n",
    "display(HTML(\"<h3>Funcion interpolante:</h3>\"))\n",
    "\n",
    "display(Math(\"P(x)=\"+latex(p)));\n",
    "\n"
   ]
  },
  {
   "cell_type": "code",
   "execution_count": 6,
   "metadata": {},
   "outputs": [
    {
     "data": {
      "text/html": [
       "<h3>Grafica del polinomio:</h3>"
      ],
      "text/plain": [
       "<IPython.core.display.HTML object>"
      ]
     },
     "metadata": {},
     "output_type": "display_data"
    },
    {
     "data": {
      "text/latex": [
       "$$P(x)=1.0 x^{2}$$"
      ],
      "text/plain": [
       "<IPython.core.display.Math object>"
      ]
     },
     "metadata": {},
     "output_type": "display_data"
    },
    {
     "data": {
      "image/png": "[encoded data removed]",
      "text/plain": [
       "<Figure size 360x360 with 1 Axes>"
      ]
     },
     "metadata": {},
     "output_type": "display_data"
    }
   ],
   "source": [
    "try:\n",
    "    display(HTML(\"<h3>Grafica del polinomio:</h3>\"))\n",
    "    display(Math(\"P(x)=\"+latex(p)))\n",
    "    fig,ax = plt.subplots(figsize=(5,5))\n",
    "    f_l = lambdify(x,p)\n",
    "    xv = linspace(li,ls,50)\n",
    "    ax.plot(xv, f_l(xv),color='blue');\n",
    "except:\n",
    "    display(HTML(\"<h2 style='color:red'>Algo ocurrio mal, porfavor verifica los datos introducidos</h2>\"))"
   ]
  },
  {
   "cell_type": "code",
   "execution_count": null,
   "metadata": {},
   "outputs": [],
   "source": []
  }
 ],
 "metadata": {
  "kernelspec": {
   "display_name": "Python 3",
   "language": "python",
   "name": "python3"
  },
  "language_info": {
   "codemirror_mode": {
    "name": "ipython",
    "version": 3
   },
   "file_extension": ".py",
   "mimetype": "text/x-python",
   "name": "python",
   "nbconvert_exporter": "python",
   "pygments_lexer": "ipython3",
   "version": "3.6.5"
  }
 },
 "nbformat": 4,
 "nbformat_minor": 2
}

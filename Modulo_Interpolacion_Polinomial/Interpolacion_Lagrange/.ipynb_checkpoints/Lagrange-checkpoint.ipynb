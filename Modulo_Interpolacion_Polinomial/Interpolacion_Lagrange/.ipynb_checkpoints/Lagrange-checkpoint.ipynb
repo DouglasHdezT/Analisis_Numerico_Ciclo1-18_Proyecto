{
 "cells": [
  {
   "cell_type": "code",
   "execution_count": null,
   "metadata": {},
   "outputs": [],
   "source": [
    "%matplotlib inline\n",
    "from sympy import *;\n",
    "from numpy import *;\n",
    "from ipywidgets import widgets\n",
    "import math\n",
    "from IPython.display import display, Math, Latex\n",
    "from IPython.core.display import display, HTML\n",
    "import matplotlib.pyplot as plt\n",
    "import pylab\n",
    "import pandas as pd\n",
    "\n",
    "init_printing()\n",
    "\n",
    "x = Symbol('x')\n",
    "g = Function('g')(x)\n",
    "f = Function('f')(x)\n",
    "p = Function('p')(x)\n"
   ]
  },
  {
   "cell_type": "code",
   "execution_count": null,
   "metadata": {},
   "outputs": [],
   "source": [
    "option_drop = widgets.Dropdown(\n",
    "            options={'Función y valores en x':1,'Valores x y valores y':2},\n",
    "            value=1,\n",
    "            description='Seleccionar:',\n",
    "        )\n",
    "display(option_drop)"
   ]
  },
  {
   "cell_type": "code",
   "execution_count": null,
   "metadata": {},
   "outputs": [],
   "source": [
    "if option_drop.value==1:\n",
    "    print(\"Ingrese los valores en x:\")\n",
    "    text_x=widgets.Text();\n",
    "    \n",
    "    display(text_x)\n",
    "    print(\"Ingrese funcion f(x)=\")\n",
    "    text_function=widgets.Text()\n",
    "    display(text_function)\n",
    "else:\n",
    "    print(\"Ingrese los valores en x:\")\n",
    "    text_x=widgets.Text();\n",
    "    display(text_x)\n",
    "    print(\"Ingrese los valores en y:\")\n",
    "    text_y=widgets.Text()\n",
    "    display(text_y)"
   ]
  },
  {
   "cell_type": "code",
   "execution_count": null,
   "metadata": {},
   "outputs": [],
   "source": [
    "if option_drop.value==1:\n",
    "    try:\n",
    "        yi=[]\n",
    "        g = sympify(text_function.value)\n",
    "        for i in range(0,len(xi)):\n",
    "            yi.append(g.subs(x,xi[i]));\n",
    "    except:\n",
    "        display(HTML(\"<h3 style='color:red'>Error en los datos, porfavor verificar funcion.</h3>\"));\n",
    "    xi = text_x.value.split(\",\")\n",
    "    xi = set(xi)\n",
    "    \n",
    "else:\n",
    "    xi = text_x.value.split(\",\")\n",
    "    xi = set(xi)\n",
    "    yi= text_y.value.split(\",\")\n",
    "    \n",
    "try:\n",
    "    xi = list(map(float, xi))\n",
    "    yi = list(map(float, yi))\n",
    "    xi = sorted(xi)\n",
    "    \n",
    "except:\n",
    "    display(HTML(\"<h3 style='color:red'>Error en los datos, porfavor verificar que sean valores numericos.</h3>\"));\n",
    "    \n",
    "    "
   ]
  },
  {
   "cell_type": "code",
   "execution_count": null,
   "metadata": {},
   "outputs": [],
   "source": [
    "p=0\n",
    "if (len(xi)==len(yi)):\n",
    "        for i in range(len(xi)):\n",
    "            f=1\n",
    "            for j in range(len(xi)):  \n",
    "                if (i != j):  \n",
    "                    f = f * ((x - xi[j])/(xi[i]-xi[j]))\n",
    "            p = p + (yi[i] * f)\n",
    "\n",
    "p=simplify(p)\n",
    "display(HTML(\"<h3>Polinimio Interpolante: </h3>\"));\n",
    "display(Math(\"P(x)=\"+latex(p)))\n"
   ]
  },
  {
   "cell_type": "code",
   "execution_count": null,
   "metadata": {},
   "outputs": [],
   "source": [
    "if len(xi)==len(yi):\n",
    "    print(\"Evaluar polinomio en un punto\")\n",
    "    text_value = widgets.BoundedFloatText(\n",
    "        value=0.0,\n",
    "        step=0.1,\n",
    "        description='x:',\n",
    "        disabled=False\n",
    "    )\n",
    "    display(text_value)\n",
    "    "
   ]
  },
  {
   "cell_type": "code",
   "execution_count": null,
   "metadata": {},
   "outputs": [],
   "source": [
    "if len(xi)==len(yi):\n",
    "    if(text_value != \"\"):\n",
    "        display(Math(\"P(\"+latex(text_value.value)+\")=\"+latex(p.subs(x,text_value.value))))"
   ]
  },
  {
   "cell_type": "code",
   "execution_count": null,
   "metadata": {},
   "outputs": [],
   "source": [
    "try:\n",
    "    fig,ax = plt.subplots(figsize=(5,5))\n",
    "    f_l = lambdify(x,p)\n",
    "    xv = linspace(xi[0],xi[len(xi)-1],50)\n",
    "    ax.plot(xv, f_l(xv),color='blue');\n",
    "    ax.scatter(xi,yi,color='black', marker='o');\n",
    "    ax.plot(text_value.value,p.subs(x,text_value.value), color ='red',marker='o');\n",
    "    ax.legend([\"pn(x)\",\"pn(\"+ str(text_value.value) +\")\"]);\n",
    "except:\n",
    "    display(HTML(\"<h2 style='color:red'>Algo ocurrio mal, porfavor verifica los datos introducidos</h2>\"))"
   ]
  },
  {
   "cell_type": "code",
   "execution_count": null,
   "metadata": {},
   "outputs": [],
   "source": []
  }
 ],
 "metadata": {
  "kernelspec": {
   "display_name": "Python 3",
   "language": "python",
   "name": "python3"
  },
  "language_info": {
   "codemirror_mode": {
    "name": "ipython",
    "version": 3
   },
   "file_extension": ".py",
   "mimetype": "text/x-python",
   "name": "python",
   "nbconvert_exporter": "python",
   "pygments_lexer": "ipython3",
   "version": "3.6.5"
  }
 },
 "nbformat": 4,
 "nbformat_minor": 2
}

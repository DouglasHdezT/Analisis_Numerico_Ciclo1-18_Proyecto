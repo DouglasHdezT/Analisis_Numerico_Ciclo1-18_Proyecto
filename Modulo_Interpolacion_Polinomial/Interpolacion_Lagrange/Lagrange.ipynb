{
 "cells": [
  {
   "cell_type": "markdown",
   "metadata": {},
   "source": [
    "## Polinomio Interpolante de Lagrange\n",
    "Dados los $n+1$ nodos  $( x_{0} , f(x_{0}) ) , ( x_{1} , f(x_{1}) , ( x_{2} , f(x_{2}) , ....... ( x_{n} , f(x_{n}) )$, se busca un polinomio $P_{n}(x)$ tal que:\n",
    "$$P_{n}(x_{i})=f(x_{i})$$ \n",
    "Cabe destacar que el polinomio que se obtiene es unico y pasa por cada uno de los nodos\n",
    "con el modelo de Lagrange:\n",
    "$$P_{n}(x) = \\sum_{i=1}^{n}[\\prod_{j=0}^{n}(\\frac{x-x_{i}}{x_{i}-x_{j}})] f(x_{i})$$\n",
    "Donde: \n",
    "<center>$L_{i}=\\prod_{j=0}^{n}(\\frac{x-x_{j}}{x_{i}-x_{j}})$ con j $\\neq 0$</center>\n",
    "Obteniendo como formula general:\n",
    "$$P_{n}(x) = \\sum_{i=1}^{n} L_{i} * f(x_{i})$$\n",
    "Por lo que se puede ver de la forma extendida:\n",
    "$$P_{n}(x) = L_{0}f(x_{0}) + L_{2}f(x_{2}) +L_{3}f(x_{3}) + ...... + L_{n}f(x_{n})$$\n",
    "Donde:\n",
    "$$L_{i}=\\prod_{j=0}^{n}(\\frac{x-x_{j}}{x_{i}-x_{j}}) = (\\frac{x-x_{1}}{x_{0}-x_{1}}) (\\frac{x-x_{2}}{x_{0}-x_{2}})  (\\frac{x-x_{3}}{x_{0}-x_{3}}) * ...... * \\frac{x-x_{n}}{x_{0}-x_{n}}$$"
   ]
  },
  {
   "cell_type": "code",
<<<<<<< HEAD
   "execution_count": 2,
=======
   "execution_count": null,
>>>>>>> ae9d30246bc2616797d6627b8f96fa1b5786d144
   "metadata": {},
   "outputs": [],
   "source": [
    "%matplotlib inline\n",
    "from sympy import *;\n",
    "from numpy import *;\n",
    "from ipywidgets import widgets\n",
    "import math\n",
    "from IPython.display import display, Math, Latex\n",
    "from IPython.core.display import display, HTML\n",
    "import matplotlib.pyplot as plt\n",
    "import pylab\n",
    "import pandas as pd\n",
    "\n",
    "init_printing()\n",
    "\n",
    "x = Symbol('x')\n",
    "g = Function('g')(x)\n",
    "f = Function('f')(x)\n",
    "p = Function('p')(x)\n"
   ]
  },
  {
   "cell_type": "code",
<<<<<<< HEAD
   "execution_count": 3,
   "metadata": {},
   "outputs": [
    {
     "data": {
      "application/vnd.jupyter.widget-view+json": {
       "model_id": "ff81f259738f46778458fb30a81eb802",
       "version_major": 2,
       "version_minor": 0
      },
      "text/plain": [
       "Dropdown(description='Seleccionar:', options={'Función y valores en x': 1, 'Valores x y valores y': 2}, value=…"
      ]
     },
     "metadata": {},
     "output_type": "display_data"
    }
   ],
=======
   "execution_count": null,
   "metadata": {},
   "outputs": [],
>>>>>>> ae9d30246bc2616797d6627b8f96fa1b5786d144
   "source": [
    "option_drop = widgets.Dropdown(\n",
    "            options={'Función y valores en x':1,'Valores x y valores y':2},\n",
    "            value=1,\n",
    "            description='Seleccionar:',\n",
    "        )\n",
    "display(option_drop)"
   ]
  },
  {
   "cell_type": "code",
<<<<<<< HEAD
   "execution_count": 13,
   "metadata": {},
   "outputs": [
    {
     "name": "stdout",
     "output_type": "stream",
     "text": [
      "Ingrese los valores en x:\n"
     ]
    },
    {
     "data": {
      "application/vnd.jupyter.widget-view+json": {
       "model_id": "430c86606c03431081eaf0e765c2eee1",
       "version_major": 2,
       "version_minor": 0
      },
      "text/plain": [
       "Text(value='')"
      ]
     },
     "metadata": {},
     "output_type": "display_data"
    },
    {
     "name": "stdout",
     "output_type": "stream",
     "text": [
      "Ingrese los valores en y:\n"
     ]
    },
    {
     "data": {
      "application/vnd.jupyter.widget-view+json": {
       "model_id": "be580ca78f944fc8960c5c6444bfb49f",
       "version_major": 2,
       "version_minor": 0
      },
      "text/plain": [
       "Text(value='')"
      ]
     },
     "metadata": {},
     "output_type": "display_data"
    }
   ],
=======
   "execution_count": null,
   "metadata": {},
   "outputs": [],
>>>>>>> ae9d30246bc2616797d6627b8f96fa1b5786d144
   "source": [
    "if option_drop.value==1:\n",
    "    print(\"Ingrese los valores en x:\")\n",
    "    text_x=widgets.Text();\n",
    "    \n",
    "    display(text_x)\n",
    "    print(\"Ingrese funcion f(x)=\")\n",
    "    text_function=widgets.Text()\n",
    "    display(text_function)\n",
    "else:\n",
    "    print(\"Ingrese los valores en x:\")\n",
    "    text_x=widgets.Text();\n",
    "    display(text_x)\n",
    "    print(\"Ingrese los valores en y:\")\n",
    "    text_y=widgets.Text()\n",
    "    display(text_y)"
   ]
  },
  {
   "cell_type": "code",
<<<<<<< HEAD
   "execution_count": 22,
=======
   "execution_count": null,
>>>>>>> ae9d30246bc2616797d6627b8f96fa1b5786d144
   "metadata": {},
   "outputs": [],
   "source": [
    "if option_drop.value==1:\n",
    "    try:\n",
    "        yi=[]\n",
    "        g = sympify(text_function.value)\n",
    "        for i in range(0,len(xi)):\n",
    "            yi.append(g.subs(x,xi[i]));\n",
    "    except:\n",
    "        display(HTML(\"<h3 style='color:red'>Error en los datos, porfavor verificar funcion.</h3>\"));\n",
    "    xi = text_x.value.split(\",\")\n",
    "    xi = set(xi)\n",
    "    \n",
    "else:\n",
    "    xi = text_x.value.split(\",\")\n",
    "    xi = set(xi)\n",
    "    yi= text_y.value.split(\",\")\n",
    "    \n",
    "try:\n",
    "    xi = list(map(float, xi))\n",
    "    yi = list(map(float, yi))\n",
    "    xi = sorted(xi)\n",
    "    \n",
    "except:\n",
    "    display(HTML(\"<h3 style='color:red'>Error en los datos, porfavor verificar que sean valores numericos.</h3>\"));\n",
    "    \n",
    "    "
   ]
  },
  {
   "cell_type": "code",
<<<<<<< HEAD
   "execution_count": 23,
   "metadata": {},
   "outputs": [
    {
     "data": {
      "text/html": [
       "<h3>Polinimio Interpolante: </h3>"
      ],
      "text/plain": [
       "<IPython.core.display.HTML object>"
      ]
     },
     "metadata": {},
     "output_type": "display_data"
    },
    {
     "data": {
      "text/latex": [
       "$$P(x)=x \\left(- 2.22044604925031 \\cdot 10^{-16} x^{2} + 1.0\\right)$$"
      ],
      "text/plain": [
       "<IPython.core.display.Math object>"
      ]
     },
     "metadata": {},
     "output_type": "display_data"
    }
   ],
=======
   "execution_count": null,
   "metadata": {},
   "outputs": [],
>>>>>>> ae9d30246bc2616797d6627b8f96fa1b5786d144
   "source": [
    "if (len(xi)==len(yi)):\n",
    "    p=0\n",
    "    for i in range(len(xi)):\n",
    "        f=1\n",
    "        for j in range(len(xi)):  \n",
    "            if (i != j):  \n",
    "                f = f * ((x - xi[j])/(xi[i]-xi[j]))\n",
    "        p = p + (yi[i] * f)\n",
    "\n",
    "    p=simplify(p)\n",
    "    display(HTML(\"<h3>Polinimio Interpolante: </h3>\"));\n",
    "    display(Math(\"P(x)=\"+latex(p)))\n",
    "else:\n",
    "    display(HTML(\"<h3 style='color:red'>Error en los datos, verificar los valores x y.</h3>\"));\n"
   ]
  },
  {
   "cell_type": "code",
<<<<<<< HEAD
   "execution_count": 24,
   "metadata": {},
   "outputs": [
    {
     "name": "stdout",
     "output_type": "stream",
     "text": [
      "Evaluar polinomio en un punto\n"
     ]
    },
    {
     "data": {
      "application/vnd.jupyter.widget-view+json": {
       "model_id": "c5fb1fe4a08a4612944f59ea16c248e8",
       "version_major": 2,
       "version_minor": 0
      },
      "text/plain": [
       "BoundedFloatText(value=0.0, description='x:', step=0.1)"
      ]
     },
     "metadata": {},
     "output_type": "display_data"
    }
   ],
=======
   "execution_count": null,
   "metadata": {},
   "outputs": [],
>>>>>>> ae9d30246bc2616797d6627b8f96fa1b5786d144
   "source": [
    "if len(xi)==len(yi):\n",
    "    print(\"Evaluar polinomio en un punto\")\n",
    "    text_value = widgets.BoundedFloatText(\n",
    "        value=0.0,\n",
    "        step=0.1,\n",
    "        description='x:',\n",
    "        disabled=False\n",
    "    )\n",
    "    display(text_value)\n",
    "    "
   ]
  },
  {
   "cell_type": "code",
<<<<<<< HEAD
   "execution_count": 28,
   "metadata": {},
   "outputs": [
    {
     "data": {
      "text/latex": [
       "$$P(2.1)=2.1$$"
      ],
      "text/plain": [
       "<IPython.core.display.Math object>"
      ]
     },
     "metadata": {},
     "output_type": "display_data"
    }
   ],
=======
   "execution_count": null,
   "metadata": {},
   "outputs": [],
>>>>>>> ae9d30246bc2616797d6627b8f96fa1b5786d144
   "source": [
    "if len(xi)==len(yi):\n",
    "    if(text_value != \"\"):\n",
    "        display(Math(\"P(\"+latex(text_value.value)+\")=\"+latex(p.subs(x,text_value.value))))"
   ]
  },
  {
   "cell_type": "code",
<<<<<<< HEAD
   "execution_count": 27,
   "metadata": {},
   "outputs": [
    {
     "data": {
      "image/png": "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\n",
      "text/plain": [
       "<Figure size 360x360 with 1 Axes>"
      ]
     },
     "metadata": {},
     "output_type": "display_data"
    }
   ],
=======
   "execution_count": null,
   "metadata": {},
   "outputs": [],
>>>>>>> ae9d30246bc2616797d6627b8f96fa1b5786d144
   "source": [
    "try:\n",
    "    fig,ax = plt.subplots(figsize=(5,5))\n",
    "    f_l = lambdify(x,p)\n",
    "    xv = linspace(xi[0],xi[len(xi)-1],50)\n",
    "    ax.plot(xv, f_l(xv),color='blue');\n",
    "    ax.scatter(xi,yi,color='black', marker='o');\n",
    "    ax.plot(text_value.value,p.subs(x,text_value.value), color ='red',marker='o');\n",
    "    ax.legend([\"pn(x)\",\"pn(\"+ str(text_value.value) +\")\"]);\n",
    "except:\n",
    "    display(HTML(\"<h2 style='color:red'>Algo ocurrio mal, porfavor verifica los datos introducidos</h2>\"))"
   ]
  },
  {
   "cell_type": "code",
   "execution_count": null,
   "metadata": {},
   "outputs": [],
   "source": []
  }
 ],
 "metadata": {
  "kernelspec": {
   "display_name": "Python 3",
   "language": "python",
   "name": "python3"
  },
  "language_info": {
   "codemirror_mode": {
    "name": "ipython",
    "version": 3
   },
   "file_extension": ".py",
   "mimetype": "text/x-python",
   "name": "python",
   "nbconvert_exporter": "python",
   "pygments_lexer": "ipython3",
   "version": "3.6.5"
  }
 },
 "nbformat": 4,
 "nbformat_minor": 2
}

{
 "cells": [
  {
   "cell_type": "markdown",
   "metadata": {},
   "source": [
    "## Polinomio Interpolante de Lagrange\n",
    "Dados los $n+1$ nodos  $( x_{0} , f(x_{0}) ) , ( x_{1} , f(x_{1}) , ( x_{2} , f(x_{2}) , ....... ( x_{n} , f(x_{n}) )$, se busca un polinomio $P_{n}(x)$ tal que:\n",
    "$$P_{n}(x_{i})=f(x_{i})$$ \n",
    "Cabe destacar que el polinomio que se obtiene es unico y pasa por cada uno de los nodos\n",
    "con el modelo de Lagrange:\n",
    "$$P_{n}(x) = \\sum_{i=1}^{n}[\\prod_{j=0}^{n}(\\frac{x-x_{i}}{x_{i}-x_{j}})] f(x_{i})$$\n",
    "Donde: \n",
    "<center>$L_{i}=\\prod_{j=0}^{n}(\\frac{x-x_{j}}{x_{i}-x_{j}})$ con j $\\neq 0$</center>\n",
    "Obteniendo como formula general:\n",
    "$$P_{n}(x) = \\sum_{i=1}^{n} L_{i} * f(x_{i})$$\n",
    "Por lo que se puede ver de la forma extendida:\n",
    "$$P_{n}(x) = L_{0}f(x_{0}) + L_{2}f(x_{2}) +L_{3}f(x_{3}) + ...... + L_{n}f(x_{n})$$\n",
    "Donde:\n",
    "$$L_{i}=\\prod_{j=0}^{n}(\\frac{x-x_{j}}{x_{i}-x_{j}}) = (\\frac{x-x_{1}}{x_{0}-x_{1}}) (\\frac{x-x_{2}}{x_{0}-x_{2}})  (\\frac{x-x_{3}}{x_{0}-x_{3}}) * ...... * \\frac{x-x_{n}}{x_{0}-x_{n}}$$"
   ]
  },
  {
   "cell_type": "code",
   "execution_count": 1,
   "metadata": {},
   "outputs": [],
   "source": [
    "%matplotlib inline\n",
    "from sympy import *;\n",
    "from numpy import *;\n",
    "from ipywidgets import widgets\n",
    "import math\n",
    "from IPython.display import display, Math, Latex\n",
    "from IPython.core.display import display, HTML\n",
    "import matplotlib.pyplot as plt\n",
    "import pylab\n",
    "import pandas as pd\n",
    "\n",
    "init_printing()\n",
    "\n",
    "x = Symbol('x')\n",
    "g = Function('g')(x)\n",
    "f = Function('f')(x)\n",
    "p = Function('p')(x)\n"
   ]
  },
  {
   "cell_type": "code",
   "execution_count": 2,
   "metadata": {},
   "outputs": [
    {
     "data": {
      "application/vnd.jupyter.widget-view+json": {
       "model_id": "1663dcf988154bdd854b06277305bc2c",
       "version_major": 2,
       "version_minor": 0
      },
      "text/plain": [
       "Dropdown(description='Seleccionar:', options={'Función y valores en x': 1, 'Valores x y valores y': 2}, value=…"
      ]
     },
     "metadata": {},
     "output_type": "display_data"
    }
   ],
   "source": [
    "option_drop = widgets.Dropdown(\n",
    "            options={'Función y valores en x':1,'Valores x y valores y':2},\n",
    "            value=1,\n",
    "            description='Seleccionar:',\n",
    "        )\n",
    "display(option_drop)"
   ]
  },
  {
   "cell_type": "code",
   "execution_count": 3,
   "metadata": {},
   "outputs": [
    {
     "name": "stdout",
     "output_type": "stream",
     "text": [
      "Ingrese los valores en x:\n"
     ]
    },
    {
     "data": {
      "application/vnd.jupyter.widget-view+json": {
       "model_id": "411c88af409c4d3ab2454cc52b69e998",
       "version_major": 2,
       "version_minor": 0
      },
      "text/plain": [
       "Text(value='')"
      ]
     },
     "metadata": {},
     "output_type": "display_data"
    },
    {
     "name": "stdout",
     "output_type": "stream",
     "text": [
      "Ingrese funcion f(x)=\n"
     ]
    },
    {
     "data": {
      "application/vnd.jupyter.widget-view+json": {
       "model_id": "f019cf96984e4fd3acdbadf5580891cc",
       "version_major": 2,
       "version_minor": 0
      },
      "text/plain": [
       "Text(value='')"
      ]
     },
     "metadata": {},
     "output_type": "display_data"
    }
   ],
   "source": [
    "if option_drop.value==1:\n",
    "    print(\"Ingrese los valores en x:\")\n",
    "    text_x=widgets.Text();\n",
    "    \n",
    "    display(text_x)\n",
    "    print(\"Ingrese funcion f(x)=\")\n",
    "    text_function=widgets.Text()\n",
    "    display(text_function)\n",
    "else:\n",
    "    print(\"Ingrese los valores en x:\")\n",
    "    text_x=widgets.Text();\n",
    "    display(text_x)\n",
    "    print(\"Ingrese los valores en y:\")\n",
    "    text_y=widgets.Text()\n",
    "    display(text_y)"
   ]
  },
  {
   "cell_type": "code",
   "execution_count": 11,
   "metadata": {},
   "outputs": [],
   "source": [
    "g=0\n",
    "if option_drop.value==1:\n",
    "    try:\n",
    "        yi=[]\n",
    "        g = sympify(text_function.value)\n",
    "        for i in range(0,len(xi)):\n",
    "            yi.append(g.subs(x,xi[i]));\n",
    "    except:\n",
    "        display(HTML(\"<h3 style='color:red'>Error en los datos, porfavor verificar funcion.</h3>\"));\n",
    "    xi = text_x.value.split(\",\")\n",
    "    xi = set(xi)\n",
    "    \n",
    "else:\n",
    "    xi = text_x.value.split(\",\")\n",
    "    xi = set(xi)\n",
    "    yi= text_y.value.split(\",\")\n",
    "    \n",
    "try:\n",
    "    xi = list(map(float, xi))\n",
    "    yi = list(map(float, yi))\n",
    "    xi = sorted(xi)\n",
    "    \n",
    "except:\n",
    "    display(HTML(\"<h3 style='color:red'>Error en los datos, porfavor verificar que sean valores numericos.</h3>\"));\n",
    "    \n",
    "    "
   ]
  },
  {
   "cell_type": "code",
   "execution_count": 12,
   "metadata": {},
   "outputs": [
    {
     "data": {
      "text/html": [
       "<h3>Polinimio Interpolante: </h3>"
      ],
      "text/plain": [
       "<IPython.core.display.HTML object>"
      ]
     },
     "metadata": {},
     "output_type": "display_data"
    },
    {
     "data": {
      "text/latex": [
       "$$P(x)=x \\left(1.11022302462516 \\cdot 10^{-16} x^{3} - 1.77635683940025 \\cdot 10^{-15} x^{2} + 3.5527136788005 \\cdot 10^{-15} x + 0.999999999999978\\right)$$"
      ],
      "text/plain": [
       "<IPython.core.display.Math object>"
      ]
     },
     "metadata": {},
     "output_type": "display_data"
    }
   ],
   "source": [
    "if len(xi)==len(yi):\n",
    "    p=0\n",
    "    if (len(xi)==len(yi)):\n",
    "            for i in range(len(xi)):\n",
    "                f=1\n",
    "                for j in range(len(xi)):  \n",
    "                    if (i != j):  \n",
    "                        f = f * ((x - xi[j])/(xi[i]-xi[j]))\n",
    "                p = p + (yi[i] * f)\n",
    "\n",
    "    p=simplify(p)\n",
    "    display(HTML(\"<h3>Polinimio Interpolante: </h3>\"));\n",
    "    display(Math(\"P(x)=\"+latex(p)))\n",
    "else:\n",
    "     display(HTML(\"<h3 style='color:red'>Error en los datos, porfavor verificar logitud de valors x y.</h3>\"));\n"
   ]
  },
  {
   "cell_type": "code",
   "execution_count": 7,
   "metadata": {},
   "outputs": [
    {
     "name": "stdout",
     "output_type": "stream",
     "text": [
      "Evaluar polinomio en un punto\n"
     ]
    },
    {
     "data": {
      "application/vnd.jupyter.widget-view+json": {
       "model_id": "d807fac8bdfc4df7ba38bc49694e7758",
       "version_major": 2,
       "version_minor": 0
      },
      "text/plain": [
       "BoundedFloatText(value=0.0, description='x:', step=0.1)"
      ]
     },
     "metadata": {},
     "output_type": "display_data"
    }
   ],
   "source": [
    "if len(xi)==len(yi):\n",
    "    print(\"Evaluar polinomio en un punto\")\n",
    "    text_value = widgets.BoundedFloatText(\n",
    "        value=0.0,\n",
    "        step=0.1,\n",
    "        description='x:',\n",
    "        disabled=False\n",
    "    )\n",
    "    display(text_value)\n",
    "    "
   ]
  },
  {
   "cell_type": "code",
   "execution_count": 8,
   "metadata": {},
   "outputs": [
    {
     "data": {
      "text/latex": [
       "$$P(2.0)=1.99999999999996$$"
      ],
      "text/plain": [
       "<IPython.core.display.Math object>"
      ]
     },
     "metadata": {},
     "output_type": "display_data"
    }
   ],
   "source": [
    "if len(xi)==len(yi):\n",
    "    if(text_value != \"\"):\n",
    "        display(Math(\"P(\"+latex(text_value.value)+\")=\"+latex(p.subs(x,text_value.value))))"
   ]
  },
  {
   "cell_type": "code",
   "execution_count": 10,
   "metadata": {},
   "outputs": [
    {
     "data": {
      "image/png": "[encoded data removed]",
      "text/plain": [
       "<Figure size 360x360 with 1 Axes>"
      ]
     },
     "metadata": {},
     "output_type": "display_data"
    }
   ],
   "source": [
    "if len(xi)==len(yi):\n",
    "    try:\n",
    "        fig,ax = plt.subplots(figsize=(5,5))\n",
    "        f_l = lambdify(x,p)\n",
    "        xv = linspace(xi[0],xi[len(xi)-1],50)\n",
    "        ax.plot(xv, f_l(xv),color='blue');\n",
    "        ax.scatter(xi,yi,color='black', marker='o');\n",
    "        ax.plot(text_value.value,p.subs(x,text_value.value), color ='red',marker='o');\n",
    "        if(g!=0):\n",
    "            g_l = lambdify(x,g)\n",
    "            ax.plot(xv, g_l(xv),color='green');\n",
    "\n",
    "        ax.legend([\"pn(x)\",\"pn(\"+ str(text_value.value) +\")\"]);\n",
    "    except:\n",
    "        display(HTML(\"<h2 style='color:red'>Algo ocurrio mal, porfavor verifica los datos introducidos</h2>\"))\n",
    "else:\n",
    "    display(HTML(\"<h2 style='color:red'>Algo ocurrio mal, porfavor verifica longuitud de los datos x y</h2>\"))\n",
    "    "
   ]
  },
  {
   "cell_type": "code",
   "execution_count": null,
   "metadata": {},
   "outputs": [],
   "source": []
  }
 ],
 "metadata": {
  "kernelspec": {
   "display_name": "Python 3",
   "language": "python",
   "name": "python3"
  },
  "language_info": {
   "codemirror_mode": {
    "name": "ipython",
    "version": 3
   },
   "file_extension": ".py",
   "mimetype": "text/x-python",
   "name": "python",
   "nbconvert_exporter": "python",
   "pygments_lexer": "ipython3",
   "version": "3.6.5"
  }
 },
 "nbformat": 4,
 "nbformat_minor": 2
}

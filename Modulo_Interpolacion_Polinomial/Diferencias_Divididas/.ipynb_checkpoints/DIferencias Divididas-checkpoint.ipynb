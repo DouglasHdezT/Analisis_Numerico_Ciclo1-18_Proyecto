{
 "cells": [
  {
   "cell_type": "markdown",
   "metadata": {},
   "source": [
    "## POLINOMIO INTERPOLANTE DIFERENCIAS DIVIDIDAS DE NEWTON\n",
    "Dado los n+1 nodos $(x_{i},f(x_{i}))$ donde $i = 0,1,2,3...n$ existen n+1 contantes $C_{0},C_{1},C_{2}...C_{n}$, determinada en la forma unica, tales que el polinomio $P(x)$ de grado $\\leq$.\n",
    "Exisistira por lo menos un polinomio interpolante que pase por los nodos establecidos\n",
    "<img src=\"img/interpolante.png\" width=\"30%\" height=\"30%\">\n",
    "definido por la siguiente manera:\n",
    "$$P(x) = C_{0} + C_{1}(x-x_{0}) + C_{2}(x-x_{0})(x-x_{1}) +...+ C_{n}(x-x_{0})(x-x_{n})$$\n",
    "### DETERMINACION DE CONSTANTES:\n",
    "$$ P(x_{0})=C_{0}=f[x_{0}] $$\n",
    "\n",
    "$$ P(x_{1})=f[x_{0}] + C_{1}(x_{1}-x_{0}) = f(x_{i}) $$\n",
    "\n",
    "<center>$ C_{1} = \\frac{f(x_{1})-f(x_{0}))}{x_{1}-x_{0}} = f[x_{0},x_{1}]$ ( Primera diferencia dividida referida $[x_{0},x_{1}]$) </center>\n",
    "\n",
    "Donde: $ f[x_{0},x_{1}] $ Es la primera diferencia dividida referida\n",
    "En terminos generales la forma para obtener la primera diferencia dividida de $f$ respecto a $x_{i}+x_{i+1}$\n",
    "\n",
    "$$ f[x{i},x_{i+1}] = \\frac{f[x_{i+1}]-f[x_{i}]}{x_{i+1}-x_{i}} $$\n",
    "\n",
    "para visualizar de mejor manera la obtención de las diferencias divididas, a continuación se presenta una tabla en la cual se obtienen de manera piramidal:\n",
    "\n",
    "|$x_{i}$| $f(x_{i})$ | 1 | 2 | 3 |\n",
    "|---|---|---|---|---|\n",
    "|$x_{0}$|$ f[x_{0}] $|0|0|0|\n",
    "|$x_{1}$|$ f[x_{1}] $|$f[x_{0},x_{1}]$|0|0|\n",
    "|$x_{2}$|$ f[x_{2}] $|$f[x_{1},x_{2}]$|$f[x_{0},x_{1},x_{2}]$|0|\n",
    "|$x_{3}$|$ f[x_{3}] $|$f[x_{2},x_{3}]$|$f[x_{0},x_{1},x_{2}]$|$f[x_{0},x_{1},x_{2},x_{3}]$|\n",
    "\n",
    "Al desarrollar cada una de las diferencias divididas referenciadas, se genera el siguiente interpolante:\n",
    "\n",
    "$$P(x)=f[x_{0}]+\\sum_{k=1}^{h}(f[x_{0},...,x_{k}])(\\prod_{j=0}^{k-1}(x-x_{j}))$$\n",
    "\n",
    "\n",
    "\n"
   ]
  },
  {
   "cell_type": "code",
   "execution_count": 47,
   "metadata": {},
   "outputs": [],
   "source": [
    "%matplotlib inline\n",
    "from sympy import *;\n",
    "from numpy import *;\n",
    "from ipywidgets import widgets\n",
    "import math\n",
    "from IPython.display import display, Math, Latex\n",
    "from IPython.core.display import display, HTML\n",
    "import matplotlib.pyplot as plt\n",
    "import pylab\n",
    "import pandas as pd\n",
    "\n",
    "\n",
    "init_printing()\n",
    "x = Symbol('x')\n",
    "gx = Function('gx')(x)"
   ]
  },
  {
   "cell_type": "code",
   "execution_count": 48,
   "metadata": {},
   "outputs": [
    {
     "data": {
      "application/vnd.jupyter.widget-view+json": {
       "model_id": "639234d278a8475abdb5e6e0c7540c71",
       "version_major": 2,
       "version_minor": 0
      },
      "text/plain": [
       "Dropdown(description='Seleccionar:', options={'Función y valores en x': 1, 'Valores x y valores y': 2}, value=…"
      ]
     },
     "metadata": {},
     "output_type": "display_data"
    }
   ],
   "source": [
    "option_drop = widgets.Dropdown(\n",
    "            options={'Función y valores en x':1,'Valores x y valores y':2},\n",
    "            value=1,\n",
    "            description='Seleccionar:',\n",
    "        )\n",
    "display(option_drop)"
   ]
  },
  {
   "cell_type": "code",
   "execution_count": 66,
   "metadata": {},
   "outputs": [
    {
     "name": "stdout",
     "output_type": "stream",
     "text": [
      "Ingrese los valores en x:\n"
     ]
    },
    {
     "data": {
      "application/vnd.jupyter.widget-view+json": {
       "model_id": "940f4db5645547e38031e9e2175dfdee",
       "version_major": 2,
       "version_minor": 0
      },
      "text/plain": [
       "Text(value='')"
      ]
     },
     "metadata": {},
     "output_type": "display_data"
    },
    {
     "name": "stdout",
     "output_type": "stream",
     "text": [
      "Ingrese funcion f(x)=\n"
     ]
    },
    {
     "data": {
      "application/vnd.jupyter.widget-view+json": {
       "model_id": "4fa135c1cea54b529f60daa52cdc379f",
       "version_major": 2,
       "version_minor": 0
      },
      "text/plain": [
       "Text(value='')"
      ]
     },
     "metadata": {},
     "output_type": "display_data"
    }
   ],
   "source": [
    "if option_drop.value==1:\n",
    "    print(\"Ingrese los valores en x:\")\n",
    "    text_x=widgets.Text();\n",
    "    \n",
    "    display(text_x)\n",
    "    print(\"Ingrese funcion f(x)=\")\n",
    "    text_function=widgets.Text()\n",
    "    display(text_function)\n",
    "else:\n",
    "    print(\"Ingrese los valores en x:\")\n",
    "    text_x=widgets.Text();\n",
    "    display(text_x)\n",
    "    print(\"Ingrese los valores en y:\")\n",
    "    text_y=widgets.Text()\n",
    "    display(text_y)\n"
   ]
  },
  {
   "cell_type": "code",
   "execution_count": 84,
   "metadata": {},
   "outputs": [],
   "source": [
    "if option_drop.value==1:\n",
    "    try:\n",
    "        yi=[]\n",
    "        gx = sympify(text_function.value)\n",
    "        for i in range(0,len(xi)):\n",
    "            yi.append(gx.subs(x,xi[i]));\n",
    "    except:\n",
    "        display(HTML(\"<h3 style='color:red'>Error en los datos, porfavor verificar funcion.</h3>\")); \n",
    "    xi = text_x.value.split(\",\")\n",
    "    xi = set(xi)\n",
    "else:\n",
    "    xi = text_x.value.split(\",\")\n",
    "    xi = set(xi)\n",
    "    yi= text_y.value.split(\",\")\n",
    "    \n",
    "try:\n",
    "    xi = list(map(float, xi))\n",
    "    yi = list(map(float, yi))\n",
    "    xi = sorted(xi)\n",
    "except:\n",
    "    display(HTML(\"<h3 style='color:red'>Error en los datos, porfavor verificar que sean valores numericos.</h3>\"));"
   ]
  },
  {
   "cell_type": "code",
   "execution_count": 85,
   "metadata": {},
   "outputs": [
    {
     "data": {
      "text/html": [
       "<h3>Tabla de diferencias dividas de newton</h3>"
      ],
      "text/plain": [
       "<IPython.core.display.HTML object>"
      ]
     },
     "metadata": {},
     "output_type": "display_data"
    },
    {
     "data": {
      "text/html": [
       "<div>\n",
       "<style scoped>\n",
       "    .dataframe tbody tr th:only-of-type {\n",
       "        vertical-align: middle;\n",
       "    }\n",
       "\n",
       "    .dataframe tbody tr th {\n",
       "        vertical-align: top;\n",
       "    }\n",
       "\n",
       "    .dataframe thead th {\n",
       "        text-align: right;\n",
       "    }\n",
       "</style>\n",
       "<table border=\"1\" class=\"dataframe\">\n",
       "  <thead>\n",
       "    <tr style=\"text-align: right;\">\n",
       "      <th></th>\n",
       "      <th>xi</th>\n",
       "      <th>f[0]</th>\n",
       "      <th>1</th>\n",
       "      <th>2</th>\n",
       "      <th>3</th>\n",
       "      <th>4</th>\n",
       "    </tr>\n",
       "  </thead>\n",
       "  <tbody>\n",
       "    <tr>\n",
       "      <th>0</th>\n",
       "      <td>1.0</td>\n",
       "      <td>1.0</td>\n",
       "      <td>0.0</td>\n",
       "      <td>0.0</td>\n",
       "      <td>0.0</td>\n",
       "      <td>0.0</td>\n",
       "    </tr>\n",
       "    <tr>\n",
       "      <th>1</th>\n",
       "      <td>2.0</td>\n",
       "      <td>4.0</td>\n",
       "      <td>3.0</td>\n",
       "      <td>0.0</td>\n",
       "      <td>0.0</td>\n",
       "      <td>0.0</td>\n",
       "    </tr>\n",
       "    <tr>\n",
       "      <th>2</th>\n",
       "      <td>3.0</td>\n",
       "      <td>9.0</td>\n",
       "      <td>5.0</td>\n",
       "      <td>1.0</td>\n",
       "      <td>0.0</td>\n",
       "      <td>0.0</td>\n",
       "    </tr>\n",
       "    <tr>\n",
       "      <th>3</th>\n",
       "      <td>4.0</td>\n",
       "      <td>16.0</td>\n",
       "      <td>7.0</td>\n",
       "      <td>1.0</td>\n",
       "      <td>0.0</td>\n",
       "      <td>0.0</td>\n",
       "    </tr>\n",
       "    <tr>\n",
       "      <th>4</th>\n",
       "      <td>5.0</td>\n",
       "      <td>25.0</td>\n",
       "      <td>9.0</td>\n",
       "      <td>1.0</td>\n",
       "      <td>0.0</td>\n",
       "      <td>0.0</td>\n",
       "    </tr>\n",
       "  </tbody>\n",
       "</table>\n",
       "</div>"
      ],
      "text/plain": [
       "    xi  f[0]    1    2    3    4\n",
       "0  1.0   1.0  0.0  0.0  0.0  0.0\n",
       "1  2.0   4.0  3.0  0.0  0.0  0.0\n",
       "2  3.0   9.0  5.0  1.0  0.0  0.0\n",
       "3  4.0  16.0  7.0  1.0  0.0  0.0\n",
       "4  5.0  25.0  9.0  1.0  0.0  0.0"
      ]
     },
     "metadata": {},
     "output_type": "display_data"
    },
    {
     "data": {
      "text/latex": [
       "$$P(x)=1.0 x^{2}$$"
      ],
      "text/plain": [
       "<IPython.core.display.Math object>"
      ]
     },
     "metadata": {},
     "output_type": "display_data"
    }
   ],
   "source": [
    "try:\n",
    "    F = zeros(shape=(len(xi),len(xi)));\n",
    "    diffDiv = []\n",
    "    for i in range(0,len(xi)):\n",
    "        vect = []\n",
    "        for j in range(0,len(xi)):\n",
    "            if i>=j:\n",
    "                if j==0:\n",
    "                    F[i,j]=yi[i]\n",
    "                else:\n",
    "                    F[i,j] = (round(F[i,j-1],12) - round(F[i-1,j-1],12))/(round(xi[i],12) - round(xi[i-j],12))\n",
    "                vect.append(F[i,j]);\n",
    "            else:\n",
    "                vect.append(F[i,j]);\n",
    "        diffDiv.append(vect)\n",
    "    \n",
    "    diffDivSort =[];\n",
    "    for i in range(0,len(diffDiv)):\n",
    "        values =[]\n",
    "        for j in range(0,len(diffDiv)):\n",
    "            values.append(diffDiv[j][i]);\n",
    "        diffDivSort.append(values)\n",
    "    \n",
    "    \n",
    "    \n",
    "    cols = [0]*(len(xi)+1);\n",
    "    for i in range(0,len(cols)):\n",
    "        cols[i] = str(i)\n",
    "\n",
    "\n",
    "    keys = ['xi','f[0]'];\n",
    "    for i in range(0,len(xi)-1):\n",
    "        keys.append(str(i+1))\n",
    "\n",
    "    values = [xi,yi]\n",
    "    for i in range(1,len(diffDivSort)):\n",
    "        values.append(diffDivSort[i])\n",
    "\n",
    "    d={};\n",
    "    for i in range(0,len(keys)):\n",
    "        d1 = {keys[i]:values[i]}\n",
    "        d.update(d1)\n",
    "\n",
    "\n",
    "    df = pd.DataFrame(d)\n",
    "    \n",
    "    display(HTML(\"<h3>Tabla de diferencias dividas de newton</h3>\"))\n",
    "    display(df)\n",
    "    \n",
    "    \n",
    "    coeficientes = F.diagonal()\n",
    "    f = Function('f')(x)\n",
    "    f = 0;\n",
    "    mx = 1;\n",
    "    for i in range(0,len(coeficientes)):\n",
    "        for j in range(0,i):\n",
    "            mx = mx*(x-xi[j])\n",
    "        f = f + coeficientes[i]*mx\n",
    "        mx = 1\n",
    "    \n",
    "    f = simplify(f)\n",
    "    \n",
    "    display(Math(\"P(x)=\"+latex(f)))\n",
    "except:\n",
    "    display(HTML(\"<h2 style='color:red'>Error! porfavor verificar datos anteriores</h2>\"))\n",
    "    \n"
   ]
  },
  {
   "cell_type": "code",
   "execution_count": 86,
   "metadata": {},
   "outputs": [
    {
     "name": "stdout",
     "output_type": "stream",
     "text": [
      "Evaluar polinomio en un punto\n"
     ]
    },
    {
     "data": {
      "application/vnd.jupyter.widget-view+json": {
       "model_id": "5db14a7982e747748ee40a16d386abcd",
       "version_major": 2,
       "version_minor": 0
      },
      "text/plain": [
       "BoundedFloatText(value=0.0, description='x:', step=0.1)"
      ]
     },
     "metadata": {},
     "output_type": "display_data"
    }
   ],
   "source": [
    "if len(xi)==len(yi):\n",
    "    print(\"Evaluar polinomio en un punto\")\n",
    "    text_value = widgets.BoundedFloatText(\n",
    "        value=0.0,\n",
    "        step=0.1,\n",
    "        description='x:',\n",
    "        disabled=False\n",
    "    )\n",
    "    display(text_value)\n",
    "\n"
   ]
  },
  {
   "cell_type": "code",
   "execution_count": 87,
   "metadata": {},
   "outputs": [
    {
     "data": {
      "text/latex": [
       "$$P(0.0)=0$$"
      ],
      "text/plain": [
       "<IPython.core.display.Math object>"
      ]
     },
     "metadata": {},
     "output_type": "display_data"
    }
   ],
   "source": [
    "if len(xi)==len(yi):\n",
    "    if(text_value != \"\"):\n",
    "        display(Math(\"P(\"+latex(text_value.value)+\")=\"+latex(f.subs(x,text_value.value))))"
   ]
  },
  {
   "cell_type": "code",
   "execution_count": 88,
   "metadata": {},
   "outputs": [
    {
     "data": {
      "image/png": "[encoded data removed]",
      "text/plain": [
       "<Figure size 360x360 with 1 Axes>"
      ]
     },
     "metadata": {},
     "output_type": "display_data"
    }
   ],
   "source": [
    "try:\n",
    "    h = abs(xi[0]-xi[len(xi)-1])/2\n",
    "    eps = h/10\n",
    "    fig,ax = plt.subplots(figsize=(5,5))\n",
    "    f_l = lambdify(x,f)\n",
    "    xv = linspace(text_value.value,xi[len(xi)-1]+eps,50)\n",
    "    ax.plot(xv, f_l(xv),color='blue');\n",
    "    ax.scatter(xi,yi,color='black', marker='o');\n",
    "    ax.plot(text_value.value,f.subs(x,text_value.value), color ='red',marker='o');\n",
    "    ax.legend([\"pn(x)\",\"pn(\"+ str(text_value.value) +\")\"]);\n",
    "except:\n",
    "    display(HTML(\"<h2 style='color:red'>Algo ocurrio mal, porfavor verifica los datos introducidos</h2>\"))\n"
   ]
  },
  {
   "cell_type": "code",
   "execution_count": null,
   "metadata": {},
   "outputs": [],
   "source": []
  }
 ],
 "metadata": {
  "kernelspec": {
   "display_name": "Python 3",
   "language": "python",
   "name": "python3"
  },
  "language_info": {
   "codemirror_mode": {
    "name": "ipython",
    "version": 3
   },
   "file_extension": ".py",
   "mimetype": "text/x-python",
   "name": "python",
   "nbconvert_exporter": "python",
   "pygments_lexer": "ipython3",
   "version": "3.6.5"
  }
 },
 "nbformat": 4,
 "nbformat_minor": 2
}
